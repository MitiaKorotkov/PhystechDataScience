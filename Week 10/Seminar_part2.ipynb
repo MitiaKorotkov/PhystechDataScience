{
 "cells": [
  {
   "cell_type": "markdown",
   "metadata": {
    "id": "c2MYXOwSSKTS"
   },
   "source": [
    "# Случайный лес"
   ]
  },
  {
   "cell_type": "markdown",
   "metadata": {
    "id": "voNdfERLSKTb"
   },
   "source": [
    "Цель этого ноутбука &mdash; знакомство со случайными лесами, с их параметрами и свойствами."
   ]
  },
  {
   "cell_type": "code",
   "execution_count": 1,
   "metadata": {
    "ExecuteTime": {
     "end_time": "2022-10-07T10:34:39.793335Z",
     "start_time": "2022-10-07T10:34:38.523322Z"
    },
    "id": "hda-RcjNSKTd"
   },
   "outputs": [],
   "source": [
    "import copy\n",
    "import random\n",
    "import warnings\n",
    "\n",
    "import numpy as np\n",
    "import pandas as pd\n",
    "import scipy.stats as sps\n",
    "\n",
    "from matplotlib import pyplot as plt\n",
    "import seaborn as sns\n",
    "from tqdm.notebook import tqdm\n",
    "\n",
    "from sklearn.datasets import load_breast_cancer\n",
    "from sklearn.metrics import accuracy_score\n",
    "from sklearn.ensemble import RandomForestClassifier\n",
    "from sklearn.model_selection import train_test_split\n",
    "\n",
    "warnings.simplefilter(\"ignore\", DeprecationWarning)\n",
    "sns.set_theme(context='poster')\n",
    "%matplotlib inline\n",
    "\n",
    "np.random.seed(42)"
   ]
  },
  {
   "cell_type": "markdown",
   "metadata": {
    "id": "HO-Bx5ZYSKTe"
   },
   "source": [
    "### Основные параметры\n",
    "\n",
    "**Реализации: `RandomForestClassifier`, `RandomForestRegressor`**\n",
    "\n",
    "Набор гиперпараметров случайного леса очень похож на набор гиперпараметров решающего дерева. Основным отличием является наличие у случайного леса параметра `n_estimators`, задающего количество решающих деревьев, используемых для получения предсказаний. Это **основной гиперпараметр** для случайного леса.\n",
    "\n",
    "Напомним главные гиперпараметры решающего дерева, которые также имеются у случайного леса.\n",
    "\n",
    "* `criterion` — критерий информативности, по которому происходит разбиение вершины дерева. \n",
    "\n",
    "* `max_depth` — ограничение на глубину каждого дерева в лесе.\n",
    "\n",
    "* `min_samples_split` — минимальное количество элементов обучающей выборки в вершине дерева, чтобы её можно было разбивать.\n",
    "\n",
    "* `min_samples_leaf` — минимальное количество элементов обучающей выборке в листовой вершине.\n",
    "\n",
    "* `splitter` — способ разбиения вершины каждого решающего дерева. Есть 2 возможных варианта: `best` и `random`. В первом случае рассматриваются все возможные способы разбить вершину дерева на две и берётся тот из них, значение критерия для которого оптимально. При `splitter=random` берётся несколько случайных возможных разбиений и среди них выбирается то, значение критерия для которого оптимально.\n",
    "\n",
    "* `max_features` — максимальное количество признаков, которые могут быть перебраны при разбиении вершины дерева. Перед каждым разбиением дерева генерируется выборка из `min(k, max_features)` случайных признаков (`k` — количество признаков в датасете) и только эти признаки рассматриваются как разделяющие в данной вершине. <br>\n",
    "Этот признак может принимать \n",
    "    * целочисленное значение — число признаков, \n",
    "    * вещественное значение — доля признаков, \n",
    "    * `None` — все признаки, \n",
    "    * `\"auto\"` — квадратный корень от числа всех признаков (по умолчанию), \n",
    "    * `\"sqrt\"` — квадратный корень от числа всех признаков, \n",
    "    * `\"log2\"` — двоичный логарифм от числа всех признаков.\n",
    "    \n",
    "* `min_impurity_decrease` — минимальное значение уменьшения взвешенного критерия неопределенности (`impurity`), чтобы можно было разбить выборку в данной вершине.\n",
    "\n",
    "О других гиперпараметрах случайного леса можно почитать в <a href=\"https://scikit-learn.org/stable/modules/generated/sklearn.ensemble.RandomForestClassifier.html\">документации</a>."
   ]
  },
  {
   "cell_type": "markdown",
   "metadata": {
    "id": "rsucdAW4SKT0"
   },
   "source": [
    "## Решение задачи классификации с помощью Random Forest"
   ]
  },
  {
   "cell_type": "markdown",
   "metadata": {
    "id": "-_3yFe_TSKT0"
   },
   "source": [
    "Возьмем классический датасет Breast Canser для определения доброкачественной или злокачественной опухоли. Его можно скачать с помощью `sklearn`, а дополнительную информацию о переменных можно почитать <a href=\"https://archive.ics.uci.edu/dataset/17/breast+cancer+wisconsin+dicancer = load_breast_cancer()\n",
    "X, y = cancer.data, cancer.targetagnostic\">тут</a>. "
   ]
  },
  {
   "cell_type": "code",
   "execution_count": 2,
   "metadata": {
    "ExecuteTime": {
     "end_time": "2022-10-07T10:34:57.390208Z",
     "start_time": "2022-10-07T10:34:57.334155Z"
    },
    "id": "Vh7VA-GOSKT1",
    "outputId": "04dc8cb7-f71a-4160-d42e-cfee5471d1da"
   },
   "outputs": [],
   "source": [
    "cancer = load_breast_cancer()\n",
    "X, y = cancer['data'], cancer['target']"
   ]
  },
  {
   "cell_type": "markdown",
   "metadata": {
    "id": "s55tsLQ4SKT1"
   },
   "source": [
    "### Зависимость точности классификации от значений гиперпараметров"
   ]
  },
  {
   "cell_type": "markdown",
   "metadata": {
    "id": "exxo87FrSKT2"
   },
   "source": [
    "Разобьём данные на обучающую и тестовую выборки."
   ]
  },
  {
   "cell_type": "code",
   "execution_count": 3,
   "metadata": {
    "ExecuteTime": {
     "end_time": "2022-10-07T10:34:57.426638Z",
     "start_time": "2022-10-07T10:34:57.415382Z"
    },
    "id": "UH12H3xNSKT2"
   },
   "outputs": [],
   "source": [
    "X_train, X_test, y_train, y_test = train_test_split(X, y, random_state=42)"
   ]
  },
  {
   "cell_type": "markdown",
   "metadata": {
    "id": "CLS9O9g7SKT2"
   },
   "source": [
    "Для начала попробуем оценить оптимальное количество решающих деревьев в лесе, взяв значения всех остальных параметров по умолчанию. Построим график зависимости `accuracy` от `n_estimators` на обучающей и на тестовой выборках. В большинстве случаев, значение `n_estimators` берут в диапазоне от 10 до 100. Но здесь мы рассмотрим более широкий набор значений — от 1 до 200."
   ]
  },
  {
   "cell_type": "code",
   "execution_count": null,
   "metadata": {},
   "outputs": [],
   "source": [
    "<...>"
   ]
  },
  {
   "cell_type": "markdown",
   "metadata": {
    "id": "usYblJmFSKT4"
   },
   "source": [
    "**Выводы:**"
   ]
  },
  {
   "cell_type": "markdown",
   "metadata": {},
   "source": [
    "В теории, при предположении, что все решающие деревья в лесе независимы между собой, должно получаться, что при увеличении числа случайных решающих деревьев в лесе дисперсия предсказания монотонно снижается, а точность монотонно повышается. Однако из-за того, что на практике решающие деревья попарно скоррелированны, такой эффект наблюдается лишь до некоторого значения `n_estimators`, а затем значительных изменений не происходит."
   ]
  },
  {
   "cell_type": "markdown",
   "metadata": {
    "id": "p3yVz_vZSKT5"
   },
   "source": [
    "Определите из графика оптимальное значение `n_estimators` и используйте это значение во всех последующих экспериментах с данным датасетом. Построим график зависимости `accuracy` от `min_samples_leaf` на обучающей и на тестовой выборках."
   ]
  },
  {
   "cell_type": "code",
   "execution_count": null,
   "metadata": {
    "ExecuteTime": {
     "end_time": "2022-10-07T10:35:30.676088Z",
     "start_time": "2022-10-07T10:35:18.837598Z"
    }
   },
   "outputs": [],
   "source": [
    "<...>"
   ]
  },
  {
   "cell_type": "markdown",
   "metadata": {
    "id": "u306_ZIDSKT7"
   },
   "source": [
    "**Выводы:**"
   ]
  },
  {
   "cell_type": "markdown",
   "metadata": {},
   "source": [
    "Теперь повторим повторим эксперимент для параметра `min_samples_split`."
   ]
  },
  {
   "cell_type": "code",
   "execution_count": null,
   "metadata": {
    "ExecuteTime": {
     "end_time": "2022-10-07T10:35:38.010010Z",
     "start_time": "2022-10-07T10:35:30.677562Z"
    }
   },
   "outputs": [],
   "source": [
    "<...>"
   ]
  },
  {
   "cell_type": "markdown",
   "metadata": {
    "id": "ZxsrhGJ5SKT7"
   },
   "source": [
    "**Выводы:**"
   ]
  },
  {
   "cell_type": "markdown",
   "metadata": {},
   "source": [
    "**Общие выводы по всей задаче:**"
   ]
  }
 ],
 "metadata": {
  "colab": {
   "collapsed_sections": [],
   "name": "6.sluchajjnyjjlesvsklearn.ipynb",
   "provenance": [],
   "toc_visible": true
  },
  "kernelspec": {
   "display_name": "Python 3 (ipykernel)",
   "language": "python",
   "name": "python3"
  },
  "language_info": {
   "codemirror_mode": {
    "name": "ipython",
    "version": 3
   },
   "file_extension": ".py",
   "mimetype": "text/x-python",
   "name": "python",
   "nbconvert_exporter": "python",
   "pygments_lexer": "ipython3",
   "version": "3.10.9"
  }
 },
 "nbformat": 4,
 "nbformat_minor": 4
}
