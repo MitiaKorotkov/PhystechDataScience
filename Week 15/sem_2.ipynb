{
 "cells": [
  {
   "cell_type": "markdown",
   "id": "9d2555d295bf19cc",
   "metadata": {
    "collapsed": false,
    "jupyter": {
     "outputs_hidden": false
    }
   },
   "source": [
    "# Batch Normalization, lightning, логгирование экспериментов"
   ]
  },
  {
   "cell_type": "markdown",
   "id": "624bbcea",
   "metadata": {},
   "source": [
    "Цель этого ноутбука -- знакомство с фреймворком PyTorch Lightning, который предназначен для автоматизации и упрощения использования PyTorch\n",
    "\n",
    " План семинара:\n",
    "\n",
    "* BatchNormalization\n",
    "* PyTorch Lightning\n",
    "* Loggers"
   ]
  },
  {
   "cell_type": "code",
   "execution_count": 1,
   "id": "14b15a6b932418a7",
   "metadata": {
    "collapsed": false,
    "jupyter": {
     "outputs_hidden": false
    }
   },
   "outputs": [],
   "source": [
    "import os\n",
    "import time\n",
    "import glob\n",
    "import requests\n",
    "from tqdm.notebook import tqdm\n",
    "from collections import defaultdict\n",
    "\n",
    "import numpy as np\n",
    "import matplotlib.pyplot as plt\n",
    "import seaborn as sns\n",
    "\n",
    "from sklearn.model_selection import train_test_split\n",
    "\n",
    "import torch\n",
    "from torch import nn\n",
    "import torch.nn.functional as F\n",
    "\n",
    "import torchvision\n",
    "from torchvision import transforms\n",
    "\n",
    "from PIL import Image\n",
    "\n",
    "from IPython.display import clear_output\n",
    "%matplotlib inline\n",
    "\n",
    "sns.set(font_scale=1.2, style='whitegrid')\n",
    "\n",
    "# device_num = 0\n",
    "# torch.cuda.set_device(device_num)"
   ]
  },
  {
   "cell_type": "code",
   "execution_count": 2,
   "id": "7a22e63d90d16dff",
   "metadata": {
    "collapsed": false,
    "jupyter": {
     "outputs_hidden": false
    }
   },
   "outputs": [
    {
     "name": "stdout",
     "output_type": "stream",
     "text": [
      "cpu\n"
     ]
    }
   ],
   "source": [
    "device = f\"cuda\" if torch.cuda.is_available() else \"cpu\"\n",
    "# device = \"cpu\"\n",
    "print(device)"
   ]
  },
  {
   "cell_type": "markdown",
   "id": "80e65105",
   "metadata": {},
   "source": [
    "## 1. [Batch Normalization (BN)](http://arxiv.org/abs/1502.03167)"
   ]
  },
  {
   "cell_type": "markdown",
   "id": "5fed840d91c4265c",
   "metadata": {
    "collapsed": false,
    "jupyter": {
     "outputs_hidden": false
    }
   },
   "source": [
    "Идея batch normalization на самом деле содержится в самом названии &mdash;\n",
    "**будем нормализовать выход каждого слоя**: вычитать из значения каждого признака\n",
    "среднее его значение по текущему батчу и делить на стандартное отклонение. После этого значения признаков умножаются на обучаемый параметр `gamma` и прибавляется обучаемый свободный член `beta`, что позволяет \"контролировать\" среднее значение и дисперсию признаков.\n",
    "\n",
    "*Forward pass:*\n",
    "\n",
    "$$\n",
    "x \\in \\mathbb{R}^{n \\times d}\n",
    "$$\n",
    "$$\n",
    "\\mu, \\sigma, \\gamma, \\beta \\in \\mathbb{R}^{1 \\times d}\n",
    "$$\n",
    "\n",
    "В фазе обучения  (`self.training == True`) BatchNormalization слой делает то, что описано выше:\n",
    "\n",
    "$$\n",
    "\\text{BatchNormalization}(x) = \\gamma \\left( \\frac{x - \\mu}{\\sqrt{\\sigma + \\varepsilon}} \\right) + \\beta\n",
    "$$\n",
    "\n",
    "$$\n",
    "\\text{BatchNormalization}(x) \\in \\mathbb{R}^{n \\times d}\n",
    "$$\n",
    "\n",
    "где\n",
    "* $\\mu$ и $\\sigma$ &mdash; среднее и дисперсия значений признаков в $x$,\n",
    "* $\\varepsilon$ нужен чтобы избежать деление на машинный 0,\n",
    "* $\\gamma$ и $\\beta$ &mdash; обучаемые параметры.\n",
    "\n",
    "Также в фазе обучения среднее и дисперсию признаков обновляют (moving average):\n",
    "\n",
    "```\n",
    "    self.moving_mean = self.moving_mean * alpha + batch_mean * (1 - alpha)\n",
    "    self.moving_variance = self.moving_variance * alpha + batch_variance * (1 - alpha)\n",
    "```\n",
    "\n",
    "В фазе применения нейросети (`self.training == False`) слой нормализует вход `input`, используя посчитанные в фазе обучения `moving_mean` и `moving_variance`.\n",
    "\n",
    "На практике BatchNorm обычно ускоряет сходимость при оптимизации, то есть позволяет обучать нейросети быстрее. Но, как обычно в нейронных сетях, эффективность нужно проверять на практике."
   ]
  },
  {
   "cell_type": "markdown",
   "id": "a470060a",
   "metadata": {},
   "source": [
    "## 2. Lightning"
   ]
  },
  {
   "cell_type": "markdown",
   "id": "fa152071",
   "metadata": {},
   "source": [
    "Полезные ссылки:\n",
    "\n",
    "[Docs](https://lightning.ai/docs/pytorch/stable/starter/installation.html)\n",
    "\n",
    "[Lightning Universe](https://github.com/Lightning-Universe) (Комьюнити проекты, расширения и доп возможности)\n",
    "\n",
    "[Lightning Flash](https://github.com/Lightning-Universe/lightning-flash) (Зоопарк готовых моделей)\n",
    "\n",
    "[Lightning Bolts](https://lightning-bolts.readthedocs.io/en/latest/) (Еще один зоопарк моделей, датасетов и супер-коллбеков)\n",
    "\n",
    "[Train model with billions of parameters](https://lightning.ai/docs/pytorch/stable/advanced/model_parallel.html)\n"
   ]
  },
  {
   "cell_type": "markdown",
   "id": "37da7469",
   "metadata": {},
   "source": [
    "### Intro"
   ]
  },
  {
   "cell_type": "markdown",
   "id": "c2b62f55",
   "metadata": {},
   "source": [
    "Мир обучения нейронок уже давно перешагнул за `train_loop(...)`, `optimizer.step()`, ..., `zero_grad`, ...,\n",
    "и ровно как вы не дергаете Cuda из питона и не пишите полносвязные слои руками, ровно так же не стоит писать тренировку модели руками, потому что:\n",
    "- Это долго\n",
    "- Это баговано\n",
    "- Каждый раз одно и то же\n",
    "- Множество вещей вы просто не знаете как написать (и это нормально!)\n",
    "- Поддерживать простыню кода в тысячи сток просто невозможно, если вы не мазохист\n",
    "- Процесс добавления распределенного обучения для вас станет последней ступенью ада\n",
    "\n",
    "Есть несколько фреймворков, которые решают перечисленные выше проблемы. Это Catalyst, PyTorch Lightning, PyTorch Ignite.\n",
    "\n",
    "Далее речь пойдет именно о Lightning."
   ]
  },
  {
   "cell_type": "markdown",
   "id": "61f11828",
   "metadata": {},
   "source": [
    "### Установка"
   ]
  },
  {
   "cell_type": "markdown",
   "id": "0d30f36e",
   "metadata": {},
   "source": [
    "[Installation Guide](https://lightning.ai/docs/pytorch/stable/starter/installation.html)\n",
    "\n",
    "```bash\n",
    "# Pip\n",
    "python -m pip install lightning\n",
    "\n",
    "# Conda\n",
    "conda install lightning -c conda-forge\n",
    "```"
   ]
  },
  {
   "cell_type": "markdown",
   "id": "20941680",
   "metadata": {},
   "source": [
    "### Основные возможности"
   ]
  },
  {
   "cell_type": "markdown",
   "id": "68bc06f4",
   "metadata": {},
   "source": [
    "Как уже было сказано выше, цель данного фреймворка избавить от необходимости написания лишнего кода. \n",
    "\n",
    "- **Тренировка и Валидация**: Lightning автоматизирует переключение между тренировочным и валидационным режимами (а так же test и predict режимы), контролирует циклы обучения, и предоставляет полезные коллбеки(способ модифицировать цикл обучения/валидации или тестирования добавлением нескольких строк кода, более подробно рассмотрим далее).\n",
    "- **GPU и TPU**: Lightning обеспечивает простое управление ресурсами, автоматизируя развертывание модели на доступные устройства (GPUs/TPUs).\n",
    "- **Масштабирование**: с легкостью (реально одной строчкой) можно использовать режимы распределенного обучения (и даже инференса)\n",
    "- **Модульность и переиспользуемость**:\n",
    "    - `LightningModule`: Объединяет в себе модель, оптимизатор и логику тренировочного цикла. Может быть использован для предсказаний, а также сохранен и загружен без проблем.\n",
    "    - `Callbacks`: Позволяют встраивать дополнительную логику в тренировочный цикл без изменения исходного кода модели. А так же есть зоопарк коробчных и сторонних колбеков, отвечающих практически за всю логику, которую вам захочется добавить\n",
    "- **Разделение логики**:\n",
    "    - Research vs Engineering: Lightning позволяет разработчикам сосредотачиваться на исследовательской части работы, выделяя логику тренировочного цикла и обработку данных в отдельные абстракции.\n",
    "- **Совместимость и Интеграция**:\n",
    "    - `LightningModule`: наследуется от torch.nn.Module. Lightning предоставляет естественный переход от стандартного кода PyTorch, позволяя легко адаптировать существующий код.\n",
    "    - Совместимость с библиотеками: Обширная поддержка различных библиотек и фреймворков для логирования, визуализации и др.\n",
    "- **Безопасность и Отказоустойчивость**:\n",
    "    - Остановка и Возобновление: Возможность остановки обучения и последующего возобновления с того же места.\n",
    "    - Очистка: Автоматическое освобождение ресурсов GPU после тренировки."
   ]
  },
  {
   "cell_type": "markdown",
   "id": "338daa54",
   "metadata": {},
   "source": [
    "### Логгирование экспериментов"
   ]
  },
  {
   "cell_type": "markdown",
   "id": "c2738ec0",
   "metadata": {},
   "source": [
    "- Логгер (или их список) передается напрямую в `pl.Trainer`\n",
    "- В логгер можно писать через `self.log()` внутри Lightning модулей\n",
    "- Так же в логгер пишут дополнительные коллбеки и плагины, которые вы передаете в `pl.Trainer`\n",
    "- Некоторые из готовых логгеров:\n",
    "    - [CSV Logger](https://lightning.ai/docs/pytorch/stable/api/lightning.pytorch.loggers.csv_logs.html#module-lightning.pytorch.loggers.csv_logs)\n",
    "    - [Mlflow Logger](https://lightning.ai/docs/pytorch/stable/api/lightning.pytorch.loggers.mlflow.html#module-lightning.pytorch.loggers.mlflow)\n",
    "    - [Tensorboard Logger](https://lightning.ai/docs/pytorch/stable/api/lightning.pytorch.loggers.tensorboard.html#module-lightning.pytorch.loggers.tensorboard)\n",
    "    - [Wandb Logger](https://lightning.ai/docs/pytorch/stable/api/lightning.pytorch.loggers.wandb.html#module-lightning.pytorch.loggers.wandb)"
   ]
  },
  {
   "cell_type": "markdown",
   "id": "09213fe3",
   "metadata": {},
   "source": [
    "### Callbacks"
   ]
  },
  {
   "cell_type": "markdown",
   "id": "24b8b7d67c7ce14c",
   "metadata": {
    "collapsed": false,
    "jupyter": {
     "outputs_hidden": false
    }
   },
   "source": [
    "- Коллбеки передатся в `pl.Trainer` и позволяют выполнить какое-то действие в конкретный момент процесса обучения, не изменяя исходный код модели.\n",
    "- Пользователь может создавать собственные коллбеки, отнаследовавшись от базового `Callback` класса и переписав его методы.\n",
    "- Некоторые полезные коллбеки, которые встроены в Lightning:\n",
    "    - `ModelCheckpoint`: автоматически сохраняет чекпоинты модели в процессе обучения\n",
    "    - `EarlyStopping`: останавливает обучение, когда заданная метрика перестает улучшаться\n",
    "    - `LearningRateMonitor`: сохраняет значения скорости обучения в логгер\n",
    "\n",
    "Посмотрим как это всё работает на практике, обучив немного модифицированную нейронную сеть с прошлого занятия.\n",
    "\n",
    "Загружаем данные: "
   ]
  },
  {
   "cell_type": "code",
   "execution_count": 3,
   "id": "67842fe6883426ff",
   "metadata": {
    "collapsed": false,
    "jupyter": {
     "outputs_hidden": false
    }
   },
   "outputs": [
    {
     "name": "stdout",
     "output_type": "stream",
     "text": [
      "Files already downloaded and verified\n",
      "Files already downloaded and verified\n"
     ]
    }
   ],
   "source": [
    "# Часть данных для обучения\n",
    "train_dataset = torchvision.datasets.CIFAR10(root='./cifar', download=True, train=True, transform=transforms.ToTensor())\n",
    "\n",
    "# Валидационная / тестовая часть данных\n",
    "val_dataset = torchvision.datasets.CIFAR10(root='./cifar', download=True, train=False, transform=transforms.ToTensor())"
   ]
  },
  {
   "cell_type": "markdown",
   "id": "5fca55b090c9c94b",
   "metadata": {
    "collapsed": false,
    "jupyter": {
     "outputs_hidden": false
    }
   },
   "source": [
    "Посмотрим на несколько картинок из обучающей выборки:"
   ]
  },
  {
   "cell_type": "code",
   "execution_count": 4,
   "id": "4fe560b7fb73769c",
   "metadata": {
    "collapsed": false,
    "jupyter": {
     "outputs_hidden": false
    }
   },
   "outputs": [
    {
     "data": {
      "image/png": "[encoded data removed]",
      "text/plain": [
       "<Figure size 1300x500 with 10 Axes>"
      ]
     },
     "metadata": {},
     "output_type": "display_data"
    }
   ],
   "source": [
    "fig, axs = plt.subplots(2, 5, figsize=(13, 5))\n",
    "\n",
    "for i in range(10):\n",
    "    axs[i // 5, i % 5].imshow(train_dataset[i][0].permute((1, 2, 0)))\n",
    "    axs[i // 5, i % 5].axis('off')\n",
    "\n",
    "plt.suptitle('картинки из датасета', y=0.95)\n",
    "plt.tight_layout()"
   ]
  },
  {
   "cell_type": "markdown",
   "id": "4f72b88a77a457f8",
   "metadata": {
    "collapsed": false,
    "jupyter": {
     "outputs_hidden": false
    }
   },
   "source": [
    "Создадим даталоадеры:"
   ]
  },
  {
   "cell_type": "code",
   "execution_count": 5,
   "id": "dfb951bd36bad9d4",
   "metadata": {
    "collapsed": false,
    "jupyter": {
     "outputs_hidden": false
    }
   },
   "outputs": [],
   "source": [
    "batch_size = 512\n",
    "\n",
    "train_batch_gen = torch.utils.data.DataLoader(\n",
    "    train_dataset,\n",
    "    batch_size=batch_size,\n",
    "    shuffle=True,\n",
    ")\n",
    "\n",
    "val_batch_gen = torch.utils.data.DataLoader(\n",
    "    val_dataset,\n",
    "    batch_size=batch_size,\n",
    "    shuffle=True,\n",
    ")"
   ]
  },
  {
   "cell_type": "markdown",
   "id": "670d91d8ba9f0481",
   "metadata": {
    "collapsed": false,
    "jupyter": {
     "outputs_hidden": false
    }
   },
   "source": [
    "Зададим базовый класс модели:"
   ]
  },
  {
   "cell_type": "code",
   "execution_count": 6,
   "id": "812ee7d554a3b30e",
   "metadata": {
    "collapsed": false,
    "jupyter": {
     "outputs_hidden": false
    }
   },
   "outputs": [],
   "source": [
    "class MySimpleModel(nn.Module):\n",
    "    def __init__(self):\n",
    "        '''\n",
    "        Здесь объявляем все слои, которые будем использовать\n",
    "        '''\n",
    "        super(MySimpleModel, self).__init__()\n",
    "        self.linear1 = nn.Linear(3 * 32 * 32, 256)\n",
    "        self.linear2 = nn.Linear(256, 64)\n",
    "        self.linear3 = nn.Linear(64, 10)\n",
    "\n",
    "    def forward(self, x):\n",
    "        '''\n",
    "        Здесь пишем в коде, в каком порядке какой слой будет применяться\n",
    "        '''\n",
    "        x = self.linear1(nn.Flatten()(x))\n",
    "        x = self.linear2(nn.ReLU()(x))\n",
    "        x = self.linear3(nn.ReLU()(x))\n",
    "        return x"
   ]
  },
  {
   "cell_type": "markdown",
   "id": "89d602f8272f58a3",
   "metadata": {
    "collapsed": false,
    "jupyter": {
     "outputs_hidden": false
    }
   },
   "source": [
    "Теперь начнем использовать преимущества Lightning:"
   ]
  },
  {
   "cell_type": "code",
   "execution_count": 7,
   "id": "590dff30d9146a68",
   "metadata": {
    "collapsed": false,
    "jupyter": {
     "outputs_hidden": false
    }
   },
   "outputs": [],
   "source": [
    "import lightning.pytorch as pl\n",
    "from torchmetrics.functional import accuracy\n",
    "from lightning.pytorch import loggers as pl_loggers\n",
    "from lightning.pytorch.callbacks import Callback, ModelCheckpoint, DeviceStatsMonitor, EarlyStopping"
   ]
  },
  {
   "cell_type": "code",
   "execution_count": 8,
   "id": "684e59506579bbad",
   "metadata": {
    "collapsed": false,
    "jupyter": {
     "outputs_hidden": false
    }
   },
   "outputs": [],
   "source": [
    "class MySimpleModelLightning(pl.LightningModule):\n",
    "    def __init__(self, lr=0.01, n_classes=10):\n",
    "        super().__init__()\n",
    "        \n",
    "        self.criterion = nn.CrossEntropyLoss()\n",
    "        self.lr = lr\n",
    "        self.n_classes = n_classes\n",
    "        self.save_hyperparameters() # сохраним гиперпараметры\n",
    "        self.model = MySimpleModel()\n",
    "    \n",
    "    def forward(self, x):\n",
    "        '''Forward pass'''\n",
    "        return self.model(x)\n",
    "\n",
    "    def training_step(self, batch, batch_idx):\n",
    "        '''Возвращает лосс с 1 шага обучения по батчу'''\n",
    "        _, loss, acc = self.__get_preds_loss_accuracy(batch)\n",
    "\n",
    "        # Логируем лосс и метрику\n",
    "        self.log('train_loss', loss)\n",
    "        self.log('train_accuracy', acc)\n",
    "        return loss\n",
    "    \n",
    "    def validation_step(self, batch, batch_idx):\n",
    "        '''Используется для логирования метрик'''\n",
    "        preds, loss, acc = self.__get_preds_loss_accuracy(batch)\n",
    "\n",
    "        # Логируем лосс и метрику\n",
    "        self.log('val_loss', loss)\n",
    "        self.log('val_accuracy', acc)\n",
    "\n",
    "        # Возвращаем предсказания, чтобы использовать их в callback\n",
    "        return preds\n",
    "\n",
    "    def configure_optimizers(self):\n",
    "        '''определяет оптимизатор модели'''\n",
    "        return torch.optim.Adam(self.parameters(), lr=self.lr)\n",
    "\n",
    "    def __get_preds_loss_accuracy(self, batch):\n",
    "        '''вспомогательная функция для шага обучения / валидации'''\n",
    "        x, y = batch\n",
    "        logits = self(x)\n",
    "        preds = torch.argmax(logits, dim=1)\n",
    "        loss = self.criterion(logits, y)\n",
    "        acc = accuracy(preds, y, 'multiclass', num_classes=self.n_classes)\n",
    "        return preds, loss, acc"
   ]
  },
  {
   "cell_type": "markdown",
   "id": "763f5ff8",
   "metadata": {},
   "source": [
    "### Logging"
   ]
  },
  {
   "cell_type": "markdown",
   "id": "5f906af2",
   "metadata": {},
   "source": [
    "Рассмотрим логгирование более подробно. Разберем логгирование с помощью Tensorboard и MLFlow.\n",
    "\n",
    "Tensorboard является частью Tensorflow, но является отдельным пакетом. Лучше всего подходит для локального логгирования. Он способен:\n",
    "- Отслеживать и визуализировать метрики, например loss и accuracy.\n",
    "- Визуализировать вычислительный граф (параметры и слои).\n",
    "- Просматривать гистограммы весов, сдвигов и то, как они меняются со временем.\n",
    "- Строить проекции промежуточных представлений в пространства с более низкой размерностью\n",
    "- Отображать картинки, текст, аудиоданные.\n",
    "\n",
    "MLFLow - open source MLOps платформа. Основные возможности:\n",
    "\n",
    "- Отслеживание экспериментов: код, данные, параметры, результаты\n",
    "- Проекты: позволяет запаковать data science код для воспроизведения на любой платформе\n",
    "- Модели: позволяет деплоить модели на сервер\n",
    "- Model registry: позволяет хранить, описывать и управлять моделями с центральном репозитории"
   ]
  },
  {
   "cell_type": "markdown",
   "id": "6a550c6a",
   "metadata": {},
   "source": [
    "**Установка**\n",
    "\n",
    "```bash\n",
    "# Tensorboard\n",
    "pip install tensorboard\n",
    "\n",
    "# MLFlow\n",
    "pip install mlflow\n",
    "```\n",
    "\n",
    "**Полезные ссылки:**\n",
    "\n",
    "[MLFlow](https://mlflow.org) - сайт MLFlow, на котором можно почитать про примеры применения, посмотреть как get started guide, так и полную документацию\n",
    "\n",
    "[Tensorboard](https://www.tensorflow.org/tensorboard/get_started) - Гайд по Tensorboard\n",
    "\n",
    "[Lightning logging](https://lightning.ai/docs/pytorch/stable/extensions/logging.html) - Логгирование в lightning"
   ]
  },
  {
   "cell_type": "code",
   "execution_count": 9,
   "id": "44ea207952996fd6",
   "metadata": {
    "collapsed": false,
    "jupyter": {
     "outputs_hidden": false
    }
   },
   "outputs": [],
   "source": [
    "# Инициализация логгеров\n",
    "tb_logger = pl_loggers.TensorBoardLogger(save_dir=\"lightning_logs/\")"
   ]
  },
  {
   "cell_type": "markdown",
   "id": "6bf0b7c822ac4d05",
   "metadata": {
    "collapsed": false,
    "jupyter": {
     "outputs_hidden": false
    }
   },
   "source": [
    "Инициализируем модель. С помощью `ModelCheckpoint` можно периодически сохранять модель / выполнять callback, отслеживая некоторую величину. Показателем того, что модель стала лучше (параметр `monitor`), может быть любая метрика, сохраненная с помощью `log()` или `log_dict()`."
   ]
  },
  {
   "cell_type": "code",
   "execution_count": 10,
   "id": "877d89e3e4ea28df",
   "metadata": {
    "collapsed": false,
    "jupyter": {
     "outputs_hidden": false
    }
   },
   "outputs": [],
   "source": [
    "# инициализируем модель\n",
    "simple_model = MySimpleModelLightning()\n",
    "\n",
    "# Создаем чекпоинтер\n",
    "checkpoint_callback = ModelCheckpoint(monitor='val_accuracy', mode='max')\n",
    "# Создаем мониторинг ресурсов\n",
    "device_stats = DeviceStatsMonitor()\n",
    "# Создаем коллбек для остановки обучения в случае отсутствия улучшений:\n",
    "early_stopping = EarlyStopping('val_loss')"
   ]
  },
  {
   "cell_type": "markdown",
   "id": "632a16df52440da5",
   "metadata": {
    "collapsed": false,
    "jupyter": {
     "outputs_hidden": false
    }
   },
   "source": [
    "Можно задать свою функцию callback, которая наследуется от `pytorch_lightning.callbacks.Callback`. Можно после прогона батча на валидации дополнительно сохранять какие-то данные, например, предсказания модели. Здесь мы логируем 20 картинок и предсказания для них."
   ]
  },
  {
   "cell_type": "markdown",
   "id": "40e9494bab6013d7",
   "metadata": {
    "collapsed": false,
    "jupyter": {
     "outputs_hidden": false
    }
   },
   "source": [
    "Создаем Trainer: нужно указать логгер, все функции callback, ускоритель и количество эпох."
   ]
  },
  {
   "cell_type": "code",
   "execution_count": 11,
   "id": "38c0eb7e023883dc",
   "metadata": {
    "collapsed": false,
    "jupyter": {
     "outputs_hidden": false
    }
   },
   "outputs": [
    {
     "name": "stderr",
     "output_type": "stream",
     "text": [
      "GPU available: False, used: False\n",
      "TPU available: False, using: 0 TPU cores\n",
      "HPU available: False, using: 0 HPUs\n"
     ]
    }
   ],
   "source": [
    "trainer = pl.Trainer(\n",
    "    logger=tb_logger,                    \n",
    "    callbacks=[\n",
    "        checkpoint_callback,\n",
    "        # early_stopping,\n",
    "        device_stats\n",
    "    ],\n",
    "    accelerator=\"cpu\",\n",
    "    max_epochs=30,\n",
    ")"
   ]
  },
  {
   "cell_type": "markdown",
   "id": "d62960955ec154b2",
   "metadata": {
    "collapsed": false,
    "jupyter": {
     "outputs_hidden": false
    }
   },
   "source": [
    "Осталось обучить модель с помощью `train.fit`. Видим, как нам не нужно отдельно прописывать функцию обучения &mdash; Pytorch Lightning сделал это за нас. Также видим статистику по параметрам нашей модели."
   ]
  },
  {
   "cell_type": "code",
   "execution_count": 12,
   "id": "7faf46bf66925550",
   "metadata": {
    "collapsed": false,
    "jupyter": {
     "outputs_hidden": false
    }
   },
   "outputs": [
    {
     "name": "stderr",
     "output_type": "stream",
     "text": [
      "\n",
      "  | Name      | Type             | Params | Mode \n",
      "-------------------------------------------------------\n",
      "0 | criterion | CrossEntropyLoss | 0      | train\n",
      "1 | model     | MySimpleModel    | 803 K  | train\n",
      "-------------------------------------------------------\n",
      "803 K     Trainable params\n",
      "0         Non-trainable params\n",
      "803 K     Total params\n",
      "3.215     Total estimated model params size (MB)\n",
      "5         Modules in train mode\n",
      "0         Modules in eval mode\n"
     ]
    },
    {
     "name": "stdout",
     "output_type": "stream",
     "text": [
      "Sanity Checking DataLoader 0: 100%|██████████| 2/2 [00:00<00:00, 22.17it/s]"
     ]
    },
    {
     "name": "stderr",
     "output_type": "stream",
     "text": [
      "c:\\Users\\korot\\miniconda3\\envs\\ml\\Lib\\site-packages\\lightning\\pytorch\\trainer\\connectors\\data_connector.py:475: Your `val_dataloader`'s sampler has shuffling enabled, it is strongly recommended that you turn shuffling off for val/test dataloaders.\n",
      "c:\\Users\\korot\\miniconda3\\envs\\ml\\Lib\\site-packages\\lightning\\pytorch\\trainer\\connectors\\data_connector.py:424: The 'val_dataloader' does not have many workers which may be a bottleneck. Consider increasing the value of the `num_workers` argument` to `num_workers=7` in the `DataLoader` to improve performance.\n"
     ]
    },
    {
     "name": "stdout",
     "output_type": "stream",
     "text": [
      "                                                                           "
     ]
    },
    {
     "name": "stderr",
     "output_type": "stream",
     "text": [
      "c:\\Users\\korot\\miniconda3\\envs\\ml\\Lib\\site-packages\\lightning\\pytorch\\trainer\\connectors\\data_connector.py:424: The 'train_dataloader' does not have many workers which may be a bottleneck. Consider increasing the value of the `num_workers` argument` to `num_workers=7` in the `DataLoader` to improve performance.\n"
     ]
    },
    {
     "name": "stdout",
     "output_type": "stream",
     "text": [
      "Epoch 29: 100%|██████████| 98/98 [00:10<00:00,  9.79it/s, v_num=0]"
     ]
    },
    {
     "name": "stderr",
     "output_type": "stream",
     "text": [
      "`Trainer.fit` stopped: `max_epochs=30` reached.\n"
     ]
    },
    {
     "name": "stdout",
     "output_type": "stream",
     "text": [
      "Epoch 29: 100%|██████████| 98/98 [00:10<00:00,  9.79it/s, v_num=0]\n"
     ]
    }
   ],
   "source": [
    "trainer.fit(simple_model, train_batch_gen, val_batch_gen)"
   ]
  },
  {
   "cell_type": "code",
   "execution_count": 57,
   "id": "bd14de1a8d71d253",
   "metadata": {
    "ExecuteTime": {
     "end_time": "2024-09-13T11:55:32.595492Z",
     "start_time": "2024-09-13T11:55:32.558355Z"
    },
    "collapsed": false,
    "jupyter": {
     "outputs_hidden": false
    }
   },
   "outputs": [
    {
     "data": {
      "text/plain": [
       "Reusing TensorBoard on port 6008 (pid 6044), started 0:00:02 ago. (Use '!kill 6044' to kill it.)"
      ]
     },
     "metadata": {},
     "output_type": "display_data"
    },
    {
     "data": {
      "text/html": [
       "\n",
       "      <iframe id=\"tensorboard-frame-8c43ef691627b9e5\" width=\"100%\" height=\"800\" frameborder=\"0\">\n",
       "      </iframe>\n",
       "      <script>\n",
       "        (function() {\n",
       "          const frame = document.getElementById(\"tensorboard-frame-8c43ef691627b9e5\");\n",
       "          const url = new URL(\"http://localhost\");\n",
       "          const port = 6008;\n",
       "          if (port) {\n",
       "            url.port = port;\n",
       "          }\n",
       "          frame.src = url;\n",
       "        })();\n",
       "      </script>\n",
       "    "
      ],
      "text/plain": [
       "<IPython.core.display.HTML object>"
      ]
     },
     "metadata": {},
     "output_type": "display_data"
    }
   ],
   "source": [
    "# Интерактивный просмотр логов\n",
    "%reload_ext tensorboard\n",
    "%tensorboard --logdir=lightning_logs/lightning_logs/version_0/"
   ]
  },
  {
   "cell_type": "markdown",
   "id": "454f7988",
   "metadata": {},
   "source": [
    "### Задание 2"
   ]
  },
  {
   "cell_type": "markdown",
   "id": "2528f2ff5a101f9e",
   "metadata": {
    "collapsed": false,
    "jupyter": {
     "outputs_hidden": false
    }
   },
   "source": [
    "Добавьте слои BatchNorm и Dropout в нейронную сеть там, где это необходимо, проведите минимум 3 эксперимента по обучению модели с использованием PyTorch Lightning и Tensorboard с разными параметрами (например можно изменить learning rate, число нейронов на скрытом слое, оптимизатор, вероятность отключения нейронов на слое, размер батча). Как изменения повлияли на скорость обучения и финальное качество модели? Сделайте выводы.\n",
    "\n",
    "При сдаче задания вместе с ноутбуком прикрепите заархивированную папку с логами tensorboard"
   ]
  },
  {
   "cell_type": "markdown",
   "id": "216fe49a",
   "metadata": {},
   "source": [
    "#### Model 1"
   ]
  },
  {
   "cell_type": "code",
   "execution_count": 17,
   "id": "ecd3d355",
   "metadata": {},
   "outputs": [],
   "source": [
    "class Model_1_Dropout(nn.Module):\n",
    "    def __init__(self):\n",
    "        '''\n",
    "        Здесь объявляем все слои, которые будем использовать\n",
    "        '''\n",
    "        super(Model_1_Dropout, self).__init__()\n",
    "        self.linear1 = nn.Linear(3 * 32 * 32, 256)\n",
    "        self.dropout = nn.Dropout(0.4)\n",
    "        self.linear2 = nn.Linear(256, 64)\n",
    "        self.dropout = nn.Dropout(0.4)\n",
    "        self.linear3 = nn.Linear(64, 10)\n",
    "\n",
    "    def forward(self, x):\n",
    "        '''\n",
    "        Здесь пишем в коде, в каком порядке какой слой будет применяться\n",
    "        '''\n",
    "        x = self.linear1(nn.Flatten()(x))\n",
    "        x = self.linear2(nn.ReLU()(x))\n",
    "        x = self.linear3(nn.ReLU()(x))\n",
    "        return x"
   ]
  },
  {
   "cell_type": "code",
   "execution_count": 18,
   "id": "fd818786",
   "metadata": {},
   "outputs": [],
   "source": [
    "class Model_1_Dropout_Lightning(pl.LightningModule):\n",
    "    def __init__(self, lr=0.01, n_classes=10):\n",
    "        super().__init__()\n",
    "        \n",
    "        self.criterion = nn.CrossEntropyLoss()\n",
    "        self.lr = lr\n",
    "        self.n_classes = n_classes\n",
    "        self.save_hyperparameters() # сохраним гиперпараметры\n",
    "        self.model = Model_1_Dropout()\n",
    "    \n",
    "    def forward(self, x):\n",
    "        '''Forward pass'''\n",
    "        return self.model(x)\n",
    "\n",
    "    def training_step(self, batch, batch_idx):\n",
    "        '''Возвращает лосс с 1 шага обучения по батчу'''\n",
    "        _, loss, acc = self.__get_preds_loss_accuracy(batch)\n",
    "\n",
    "        # Логируем лосс и метрику\n",
    "        self.log('train_loss', loss)\n",
    "        self.log('train_accuracy', acc)\n",
    "        return loss\n",
    "    \n",
    "    def validation_step(self, batch, batch_idx):\n",
    "        '''Используется для логирования метрик'''\n",
    "        preds, loss, acc = self.__get_preds_loss_accuracy(batch)\n",
    "\n",
    "        # Логируем лосс и метрику\n",
    "        self.log('val_loss', loss)\n",
    "        self.log('val_accuracy', acc)\n",
    "\n",
    "        # Возвращаем предсказания, чтобы использовать их в callback\n",
    "        return preds\n",
    "\n",
    "    def configure_optimizers(self):\n",
    "        '''определяет оптимизатор модели'''\n",
    "        return torch.optim.Adam(self.parameters(), lr=self.lr)\n",
    "\n",
    "    def __get_preds_loss_accuracy(self, batch):\n",
    "        '''вспомогательная функция для шага обучения / валидации'''\n",
    "        x, y = batch\n",
    "        logits = self(x)\n",
    "        preds = torch.argmax(logits, dim=1)\n",
    "        loss = self.criterion(logits, y)\n",
    "        acc = accuracy(preds, y, 'multiclass', num_classes=self.n_classes)\n",
    "        return preds, loss, acc"
   ]
  },
  {
   "cell_type": "code",
   "execution_count": 19,
   "id": "05084679",
   "metadata": {},
   "outputs": [],
   "source": [
    "tb_logger = pl_loggers.TensorBoardLogger(save_dir=\"lightning_logs/\")\n",
    "\n",
    "model = Model_1_Dropout_Lightning()"
   ]
  },
  {
   "cell_type": "code",
   "execution_count": 20,
   "id": "dd05f1a0",
   "metadata": {},
   "outputs": [
    {
     "name": "stderr",
     "output_type": "stream",
     "text": [
      "GPU available: False, used: False\n",
      "TPU available: False, using: 0 TPU cores\n",
      "HPU available: False, using: 0 HPUs\n"
     ]
    }
   ],
   "source": [
    "trainer = pl.Trainer(\n",
    "    logger=tb_logger,                    \n",
    "    callbacks=[\n",
    "        ModelCheckpoint(monitor='val_accuracy', mode='max'),\n",
    "        EarlyStopping('val_loss'),\n",
    "        DeviceStatsMonitor(),\n",
    "    ],\n",
    "    accelerator=\"cpu\",\n",
    "    max_epochs=30,\n",
    ")"
   ]
  },
  {
   "cell_type": "code",
   "execution_count": 21,
   "id": "77ce4da0",
   "metadata": {},
   "outputs": [
    {
     "name": "stderr",
     "output_type": "stream",
     "text": [
      "\n",
      "  | Name      | Type             | Params | Mode \n",
      "-------------------------------------------------------\n",
      "0 | criterion | CrossEntropyLoss | 0      | train\n",
      "1 | model     | Model_1_Dropout  | 803 K  | train\n",
      "-------------------------------------------------------\n",
      "803 K     Trainable params\n",
      "0         Non-trainable params\n",
      "803 K     Total params\n",
      "3.215     Total estimated model params size (MB)\n",
      "6         Modules in train mode\n",
      "0         Modules in eval mode\n"
     ]
    },
    {
     "name": "stdout",
     "output_type": "stream",
     "text": [
      "Epoch 21: 100%|██████████| 98/98 [00:09<00:00, 10.48it/s, v_num=1]          \n"
     ]
    }
   ],
   "source": [
    "trainer.fit(model, train_batch_gen, val_batch_gen)"
   ]
  },
  {
   "cell_type": "code",
   "execution_count": 58,
   "id": "8a22f226",
   "metadata": {},
   "outputs": [
    {
     "data": {
      "text/plain": [
       "Reusing TensorBoard on port 6008 (pid 28000), started 1:04:12 ago. (Use '!kill 28000' to kill it.)"
      ]
     },
     "metadata": {},
     "output_type": "display_data"
    },
    {
     "data": {
      "text/html": [
       "\n",
       "      <iframe id=\"tensorboard-frame-fa2acecf400c9923\" width=\"100%\" height=\"800\" frameborder=\"0\">\n",
       "      </iframe>\n",
       "      <script>\n",
       "        (function() {\n",
       "          const frame = document.getElementById(\"tensorboard-frame-fa2acecf400c9923\");\n",
       "          const url = new URL(\"http://localhost\");\n",
       "          const port = 6008;\n",
       "          if (port) {\n",
       "            url.port = port;\n",
       "          }\n",
       "          frame.src = url;\n",
       "        })();\n",
       "      </script>\n",
       "    "
      ],
      "text/plain": [
       "<IPython.core.display.HTML object>"
      ]
     },
     "metadata": {},
     "output_type": "display_data"
    }
   ],
   "source": [
    "%reload_ext tensorboard\n",
    "%tensorboard --logdir=lightning_logs/lightning_logs/version_1/"
   ]
  },
  {
   "cell_type": "markdown",
   "id": "3ccbb761",
   "metadata": {},
   "source": [
    "#### Model 2"
   ]
  },
  {
   "cell_type": "code",
   "execution_count": 23,
   "id": "7c45d26d",
   "metadata": {},
   "outputs": [],
   "source": [
    "class Model_2_BatchNorm(nn.Module):\n",
    "    def __init__(self):\n",
    "        '''\n",
    "        Здесь объявляем все слои, которые будем использовать\n",
    "        '''\n",
    "        super(Model_2_BatchNorm, self).__init__()\n",
    "        self.linear1 = nn.Linear(3 * 32 * 32, 256)\n",
    "        self.linear2 = nn.Linear(256, 64)\n",
    "        self.linear3 = nn.Linear(64, 10)\n",
    "\n",
    "    def forward(self, x):\n",
    "        '''\n",
    "        Здесь пишем в коде, в каком порядке какой слой будет применяться\n",
    "        '''\n",
    "        x = self.linear1(nn.Flatten()(x))\n",
    "        x = self.linear2(nn.ReLU()(x))\n",
    "        x = self.linear3(nn.ReLU()(x))\n",
    "        return x"
   ]
  },
  {
   "cell_type": "code",
   "execution_count": 24,
   "id": "5e512800",
   "metadata": {},
   "outputs": [],
   "source": [
    "class Model_2_BatchNorm_Lightning(pl.LightningModule):\n",
    "    def __init__(self, lr=0.01, n_classes=10):\n",
    "        super().__init__()\n",
    "        \n",
    "        self.criterion = nn.CrossEntropyLoss()\n",
    "        self.lr = lr\n",
    "        self.n_classes = n_classes\n",
    "        self.save_hyperparameters() # сохраним гиперпараметры\n",
    "        self.model = Model_2_BatchNorm()\n",
    "    \n",
    "    def forward(self, x):\n",
    "        '''Forward pass'''\n",
    "        return self.model(x)\n",
    "\n",
    "    def training_step(self, batch, batch_idx):\n",
    "        '''Возвращает лосс с 1 шага обучения по батчу'''\n",
    "        _, loss, acc = self.__get_preds_loss_accuracy(batch)\n",
    "\n",
    "        # Логируем лосс и метрику\n",
    "        self.log('train_loss', loss)\n",
    "        self.log('train_accuracy', acc)\n",
    "        return loss\n",
    "    \n",
    "    def validation_step(self, batch, batch_idx):\n",
    "        '''Используется для логирования метрик'''\n",
    "        preds, loss, acc = self.__get_preds_loss_accuracy(batch)\n",
    "\n",
    "        # Логируем лосс и метрику\n",
    "        self.log('val_loss', loss)\n",
    "        self.log('val_accuracy', acc)\n",
    "\n",
    "        # Возвращаем предсказания, чтобы использовать их в callback\n",
    "        return preds\n",
    "\n",
    "    def configure_optimizers(self):\n",
    "        '''определяет оптимизатор модели'''\n",
    "        return torch.optim.Adam(self.parameters(), lr=self.lr)\n",
    "\n",
    "    def __get_preds_loss_accuracy(self, batch):\n",
    "        '''вспомогательная функция для шага обучения / валидации'''\n",
    "        x, y = batch\n",
    "        logits = self(x)\n",
    "        preds = torch.argmax(logits, dim=1)\n",
    "        loss = self.criterion(logits, y)\n",
    "        acc = accuracy(preds, y, 'multiclass', num_classes=self.n_classes)\n",
    "        return preds, loss, acc"
   ]
  },
  {
   "cell_type": "code",
   "execution_count": 25,
   "id": "b1ab6632",
   "metadata": {},
   "outputs": [],
   "source": [
    "tb_logger = pl_loggers.TensorBoardLogger(save_dir=\"lightning_logs/\")\n",
    "\n",
    "model = Model_2_BatchNorm_Lightning()"
   ]
  },
  {
   "cell_type": "code",
   "execution_count": 26,
   "id": "53b08838",
   "metadata": {},
   "outputs": [
    {
     "name": "stderr",
     "output_type": "stream",
     "text": [
      "GPU available: False, used: False\n",
      "TPU available: False, using: 0 TPU cores\n",
      "HPU available: False, using: 0 HPUs\n"
     ]
    }
   ],
   "source": [
    "trainer = pl.Trainer(\n",
    "    logger=tb_logger,                    \n",
    "    callbacks=[\n",
    "        ModelCheckpoint(monitor='val_accuracy', mode='max'),\n",
    "        EarlyStopping('val_loss'),\n",
    "        DeviceStatsMonitor(),\n",
    "    ],\n",
    "    accelerator=\"cpu\",\n",
    "    max_epochs=30,\n",
    ")"
   ]
  },
  {
   "cell_type": "code",
   "execution_count": 27,
   "id": "357e8d81",
   "metadata": {},
   "outputs": [
    {
     "name": "stderr",
     "output_type": "stream",
     "text": [
      "\n",
      "  | Name      | Type              | Params | Mode \n",
      "--------------------------------------------------------\n",
      "0 | criterion | CrossEntropyLoss  | 0      | train\n",
      "1 | model     | Model_2_BatchNorm | 803 K  | train\n",
      "--------------------------------------------------------\n",
      "803 K     Trainable params\n",
      "0         Non-trainable params\n",
      "803 K     Total params\n",
      "3.215     Total estimated model params size (MB)\n",
      "5         Modules in train mode\n",
      "0         Modules in eval mode\n"
     ]
    },
    {
     "name": "stdout",
     "output_type": "stream",
     "text": [
      "Epoch 20: 100%|██████████| 98/98 [00:28<00:00,  3.39it/s, v_num=2]         \n"
     ]
    }
   ],
   "source": [
    "trainer.fit(model, train_batch_gen, val_batch_gen)"
   ]
  },
  {
   "cell_type": "code",
   "execution_count": 36,
   "id": "8abe4825",
   "metadata": {},
   "outputs": [
    {
     "data": {
      "text/plain": [
       "Reusing TensorBoard on port 6006 (pid 42620), started 0:02:41 ago. (Use '!kill 42620' to kill it.)"
      ]
     },
     "metadata": {},
     "output_type": "display_data"
    },
    {
     "data": {
      "text/html": [
       "\n",
       "      <iframe id=\"tensorboard-frame-e457f1072186949b\" width=\"100%\" height=\"800\" frameborder=\"0\">\n",
       "      </iframe>\n",
       "      <script>\n",
       "        (function() {\n",
       "          const frame = document.getElementById(\"tensorboard-frame-e457f1072186949b\");\n",
       "          const url = new URL(\"http://localhost\");\n",
       "          const port = 6006;\n",
       "          if (port) {\n",
       "            url.port = port;\n",
       "          }\n",
       "          frame.src = url;\n",
       "        })();\n",
       "      </script>\n",
       "    "
      ],
      "text/plain": [
       "<IPython.core.display.HTML object>"
      ]
     },
     "metadata": {},
     "output_type": "display_data"
    }
   ],
   "source": [
    "%reload_ext tensorboard\n",
    "%tensorboard --logdir=lightning_logs/lightning_logs/version_2"
   ]
  },
  {
   "cell_type": "markdown",
   "id": "1ce50cdf",
   "metadata": {},
   "source": [
    "#### Model 3"
   ]
  },
  {
   "cell_type": "code",
   "execution_count": 29,
   "id": "8e7fb5ad",
   "metadata": {},
   "outputs": [],
   "source": [
    "class Model_3(nn.Module):\n",
    "    def __init__(self):\n",
    "        '''\n",
    "        Здесь объявляем все слои, которые будем использовать\n",
    "        '''\n",
    "        super(Model_3, self).__init__()\n",
    "        self.linear1 = nn.Linear(3 * 32 * 32, 256)\n",
    "        self.linear2 = nn.Linear(256, 64)\n",
    "        self.linear3 = nn.Linear(64, 10)\n",
    "\n",
    "    def forward(self, x):\n",
    "        '''\n",
    "        Здесь пишем в коде, в каком порядке какой слой будет применяться\n",
    "        '''\n",
    "        x = self.linear1(nn.Flatten()(x))\n",
    "        x = self.linear2(nn.ReLU()(x))\n",
    "        x = self.linear3(nn.ReLU()(x))\n",
    "        return x"
   ]
  },
  {
   "cell_type": "code",
   "execution_count": 30,
   "id": "58e49e16",
   "metadata": {},
   "outputs": [],
   "source": [
    "class Model_3_Lightning(pl.LightningModule):\n",
    "    def __init__(self, lr=0.01, n_classes=10):\n",
    "        super().__init__()\n",
    "        \n",
    "        self.criterion = nn.CrossEntropyLoss()\n",
    "        self.lr = lr\n",
    "        self.n_classes = n_classes\n",
    "        self.save_hyperparameters() # сохраним гиперпараметры\n",
    "        self.model = Model_3()\n",
    "    \n",
    "    def forward(self, x):\n",
    "        '''Forward pass'''\n",
    "        return self.model(x)\n",
    "\n",
    "    def training_step(self, batch, batch_idx):\n",
    "        '''Возвращает лосс с 1 шага обучения по батчу'''\n",
    "        _, loss, acc = self.__get_preds_loss_accuracy(batch)\n",
    "\n",
    "        # Логируем лосс и метрику\n",
    "        self.log('train_loss', loss)\n",
    "        self.log('train_accuracy', acc)\n",
    "        return loss\n",
    "    \n",
    "    def validation_step(self, batch, batch_idx):\n",
    "        '''Используется для логирования метрик'''\n",
    "        preds, loss, acc = self.__get_preds_loss_accuracy(batch)\n",
    "\n",
    "        # Логируем лосс и метрику\n",
    "        self.log('val_loss', loss)\n",
    "        self.log('val_accuracy', acc)\n",
    "\n",
    "        # Возвращаем предсказания, чтобы использовать их в callback\n",
    "        return preds\n",
    "\n",
    "    def configure_optimizers(self):\n",
    "        '''определяет оптимизатор модели'''\n",
    "        return torch.optim.Adam(self.parameters(), lr=self.lr)\n",
    "\n",
    "    def __get_preds_loss_accuracy(self, batch):\n",
    "        '''вспомогательная функция для шага обучения / валидации'''\n",
    "        x, y = batch\n",
    "        logits = self(x)\n",
    "        preds = torch.argmax(logits, dim=1)\n",
    "        loss = self.criterion(logits, y)\n",
    "        acc = accuracy(preds, y, 'multiclass', num_classes=self.n_classes)\n",
    "        return preds, loss, acc"
   ]
  },
  {
   "cell_type": "code",
   "execution_count": 31,
   "id": "69ebd46a",
   "metadata": {},
   "outputs": [],
   "source": [
    "tb_logger = pl_loggers.TensorBoardLogger(save_dir=\"lightning_logs/\")\n",
    "\n",
    "model = Model_3_Lightning()"
   ]
  },
  {
   "cell_type": "code",
   "execution_count": 32,
   "id": "c8ef3fd5",
   "metadata": {},
   "outputs": [
    {
     "name": "stderr",
     "output_type": "stream",
     "text": [
      "GPU available: False, used: False\n",
      "TPU available: False, using: 0 TPU cores\n",
      "HPU available: False, using: 0 HPUs\n"
     ]
    }
   ],
   "source": [
    "trainer = pl.Trainer(\n",
    "    logger=tb_logger,                    \n",
    "    callbacks=[\n",
    "        ModelCheckpoint(monitor='val_accuracy', mode='max'),\n",
    "        EarlyStopping('val_loss'),\n",
    "        DeviceStatsMonitor(),\n",
    "    ],\n",
    "    accelerator=\"cpu\",\n",
    "    max_epochs=30,\n",
    ")"
   ]
  },
  {
   "cell_type": "code",
   "execution_count": 33,
   "id": "194dc2b1",
   "metadata": {},
   "outputs": [
    {
     "name": "stderr",
     "output_type": "stream",
     "text": [
      "\n",
      "  | Name      | Type             | Params | Mode \n",
      "-------------------------------------------------------\n",
      "0 | criterion | CrossEntropyLoss | 0      | train\n",
      "1 | model     | Model_3          | 803 K  | train\n",
      "-------------------------------------------------------\n",
      "803 K     Trainable params\n",
      "0         Non-trainable params\n",
      "803 K     Total params\n",
      "3.215     Total estimated model params size (MB)\n",
      "5         Modules in train mode\n",
      "0         Modules in eval mode\n"
     ]
    },
    {
     "name": "stdout",
     "output_type": "stream",
     "text": [
      "Epoch 3: 100%|██████████| 98/98 [00:29<00:00,  3.29it/s, v_num=3]          \n"
     ]
    }
   ],
   "source": [
    "trainer.fit(model, train_batch_gen, val_batch_gen)"
   ]
  },
  {
   "cell_type": "code",
   "execution_count": 35,
   "id": "7dc1d1a1",
   "metadata": {},
   "outputs": [
    {
     "data": {
      "text/plain": [
       "Reusing TensorBoard on port 6016 (pid 11312), started 0:34:49 ago. (Use '!kill 11312' to kill it.)"
      ]
     },
     "metadata": {},
     "output_type": "display_data"
    },
    {
     "data": {
      "text/html": [
       "\n",
       "      <iframe id=\"tensorboard-frame-7898fd0b2962ed77\" width=\"100%\" height=\"800\" frameborder=\"0\">\n",
       "      </iframe>\n",
       "      <script>\n",
       "        (function() {\n",
       "          const frame = document.getElementById(\"tensorboard-frame-7898fd0b2962ed77\");\n",
       "          const url = new URL(\"http://localhost\");\n",
       "          const port = 6016;\n",
       "          if (port) {\n",
       "            url.port = port;\n",
       "          }\n",
       "          frame.src = url;\n",
       "        })();\n",
       "      </script>\n",
       "    "
      ],
      "text/plain": [
       "<IPython.core.display.HTML object>"
      ]
     },
     "metadata": {},
     "output_type": "display_data"
    }
   ],
   "source": [
    "%reload_ext tensorboard\n",
    "%tensorboard --logdir=lightning_logs/lightning_logs/version_3"
   ]
  }
 ],
 "metadata": {
  "kernelspec": {
   "display_name": "ml",
   "language": "python",
   "name": "python3"
  },
  "language_info": {
   "codemirror_mode": {
    "name": "ipython",
    "version": 3
   },
   "file_extension": ".py",
   "mimetype": "text/x-python",
   "name": "python",
   "nbconvert_exporter": "python",
   "pygments_lexer": "ipython3",
   "version": "3.12.3"
  }
 },
 "nbformat": 4,
 "nbformat_minor": 5
}
