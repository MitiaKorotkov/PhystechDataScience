{
 "cells": [
  {
   "cell_type": "markdown",
   "metadata": {},
   "source": [
    "# <a href=\"https://miptstats.github.io/courses/ad_mipt.html\">Phystech@DataScience </a>"
   ]
  },
  {
   "cell_type": "code",
   "execution_count": 1,
   "metadata": {},
   "outputs": [],
   "source": [
    "import numpy as np\n",
    "import scipy.stats as sps\n",
    "import matplotlib.pyplot as plt\n",
    "import pandas as pd\n",
    "import seaborn as sns\n",
    "\n",
    "%matplotlib inline\n",
    "sns.set_style(\"whitegrid\")"
   ]
  },
  {
   "cell_type": "markdown",
   "metadata": {},
   "source": [
    "## Задача 1\n",
    "### Распределение Стьюдента\n"
   ]
  },
  {
   "cell_type": "markdown",
   "metadata": {},
   "source": [
    "В `scipy.stats` распределение Стьюдента задается объектом `t` с параметрами:\n",
    " * `loc` и `scale` параметры распределения так же как и у нормального распределение\n",
    " * `df` число степеней свободы\n",
    "\n",
    "Все остальные методы стандартные. Например, генерации выборки из распределения $T_{50}$ будет выглядеть так:\n"
   ]
  },
  {
   "cell_type": "code",
   "execution_count": 11,
   "metadata": {},
   "outputs": [
    {
     "data": {
      "text/plain": [
       "array([-2.26352403,  0.11996148, -0.99932391,  1.46508344])"
      ]
     },
     "execution_count": 11,
     "metadata": {},
     "output_type": "execute_result"
    }
   ],
   "source": [
    "sps.t(df=50).rvs(4)"
   ]
  },
  {
   "cell_type": "markdown",
   "metadata": {},
   "source": [
    "Постройте на одном графике плотности распределения Стьюдента и нормального.\n"
   ]
  },
  {
   "cell_type": "code",
   "execution_count": 1,
   "metadata": {
    "scrolled": false
   },
   "outputs": [],
   "source": [
    "# Ваш код"
   ]
  },
  {
   "cell_type": "markdown",
   "metadata": {},
   "source": [
    "Что вы можете сказать о скорости убывания \"хвостов\" данных распределений? Повлияет ли это на значения соответствующих квантилей?"
   ]
  },
  {
   "cell_type": "markdown",
   "metadata": {},
   "source": [
    "**Ответ:** "
   ]
  },
  {
   "cell_type": "markdown",
   "metadata": {},
   "source": [
    "### Квантили распределения Стьюдента"
   ]
  },
  {
   "cell_type": "markdown",
   "metadata": {},
   "source": [
    "Для подсчета теоретических значений квантилей в модуле `scipy.stats` есть метод `.ppf`. На вход принимает параметр `alpha` - значение квантиля, а так же все параметры выбранного распределения.\n",
    "\n"
   ]
  },
  {
   "cell_type": "code",
   "execution_count": 426,
   "metadata": {},
   "outputs": [
    {
     "data": {
      "text/plain": [
       "-1.6448536269514729"
      ]
     },
     "execution_count": 426,
     "metadata": {},
     "output_type": "execute_result"
    }
   ],
   "source": [
    "sps.norm(loc=0, scale=1).ppf(0.05)"
   ]
  },
  {
   "cell_type": "markdown",
   "metadata": {},
   "source": [
    "Для распределения Стьюдента нужно указать еще число степеней свобод."
   ]
  },
  {
   "cell_type": "code",
   "execution_count": 425,
   "metadata": {},
   "outputs": [
    {
     "data": {
      "text/plain": [
       "-2.0150483726691575"
      ]
     },
     "execution_count": 425,
     "metadata": {},
     "output_type": "execute_result"
    }
   ],
   "source": [
    "sps.t(loc=0, scale=1, df=5).ppf(0.05)"
   ]
  },
  {
   "cell_type": "markdown",
   "metadata": {},
   "source": [
    "Как мы видим, значения квантилей довольно сильно различаются. "
   ]
  },
  {
   "cell_type": "markdown",
   "metadata": {},
   "source": [
    "Возьмите `alpha` равное 95% и постройте график значений квантилей распределения стьюдента $T_{n-1,(1+\\alpha)/2}$ от его степеней свобод. Так же нанесите на график значение квантиля нормального распределения $z_{(1+\\alpha)/2}$\n",
    "\n",
    "*Указание*: рассмотрите значения степеней свобод от 1 до 50."
   ]
  },
  {
   "cell_type": "code",
   "execution_count": null,
   "metadata": {},
   "outputs": [],
   "source": [
    "alpha = 0.95\n",
    "dfs =  np.arange(1, 50) # массив степеней свобод"
   ]
  },
  {
   "cell_type": "code",
   "execution_count": null,
   "metadata": {},
   "outputs": [],
   "source": [
    "# Ваш код"
   ]
  },
  {
   "cell_type": "markdown",
   "metadata": {},
   "source": [
    "Как изменяется поведение значения квантилей t распределения, есть ли у него какой-то предел?"
   ]
  },
  {
   "cell_type": "markdown",
   "metadata": {},
   "source": [
    "**Ответ:**"
   ]
  },
  {
   "cell_type": "markdown",
   "metadata": {},
   "source": [
    "### ДИ в нормальной модели\n",
    " В данном задании вам нужно изучить доверительные интервалы для параметра сдвига в нормальной модели в случае неизвестной дисперсии. Требуется построить: \n",
    " * асимптотический доверительный интервал при помощи центральной предельной теоремы;\n",
    " * точный неасимптотический при помощи распределений хи-квадрат, Стьюдента.\n"
   ]
  },
  {
   "cell_type": "markdown",
   "metadata": {},
   "source": [
    "Вывод этих интервалов был разобран на лекции. Выпишите только ответы.\n",
    "\n",
    "Асимптотический доверительный интервал: \n",
    "\n",
    "Точный доверительный интервал: \n",
    "\n"
   ]
  },
  {
   "cell_type": "markdown",
   "metadata": {},
   "source": [
    "Постройте доверительные интервалы для параметра сдвига стандартного нормального распределения. Нужно построить доверительные интервалы обоих рассмотренных выше типов. Запишите их в виде таблицы.\n",
    "\n",
    "*Указание*: рассмотрите длину выборки около 20-30.\n"
   ]
  },
  {
   "cell_type": "code",
   "execution_count": null,
   "metadata": {},
   "outputs": [],
   "source": [
    "sample_size = 30\n",
    "sample = <...>  # выборка\n",
    "\n",
    "asymptotic_ci = <...>  # асимптотические ДИ\n",
    "\n",
    "precise_ci = <...>  # точные ДИ"
   ]
  },
  {
   "cell_type": "markdown",
   "metadata": {},
   "source": [
    "Сравните полученные значения для доверительных интервалов."
   ]
  },
  {
   "cell_type": "markdown",
   "metadata": {},
   "source": [
    "**Ответ**: "
   ]
  },
  {
   "cell_type": "markdown",
   "metadata": {},
   "source": [
    "Реализуйте функции построения этих интервалов по выборке. Функции уже задокументированы.\n",
    "\n",
    "Интервалы считайте по префиксам. Циклы использовать **запрещено**. Для подсчета среднего по префиксам используйте функцию `np.cumsum`."
   ]
  },
  {
   "cell_type": "code",
   "execution_count": null,
   "metadata": {},
   "outputs": [],
   "source": [
    "def calculate_asymptotic_confidence_intervals(sample, alpha=0.95):\n",
    "    '''\n",
    "    Функция для вычисления асимптотического доверительного интервала\n",
    "        параметра сдвига для всех подвыборок выборки\n",
    "    param sample: выборка,\n",
    "    param alpha: уровень доверия\n",
    "\n",
    "    return: асимптотический доверительный интервал\n",
    "    '''\n",
    "\n",
    "    # ваш код\n",
    "    return\n",
    "\n",
    "\n",
    "def calculate_confidence_intervals(sample, alpha=0.95):\n",
    "    '''\n",
    "    Функция для вычисления неасимптотического доверительного интервала\n",
    "        параметра сдвига для всех подвыборок выборки\n",
    "    param sample: выборка,\n",
    "    param alpha: уровень доверия\n",
    "\n",
    "    return: неасимптотический доверительный интервал\n",
    "    '''\n",
    "\n",
    "    # ваш код\n",
    "    return"
   ]
  },
  {
   "cell_type": "markdown",
   "metadata": {},
   "source": [
    "Сгенерируйте выборку из нормального распределения и сравните два доверительных интервала в зависимости от размера выборки. Для сравнения отобразите оба интервала на одном графике. Проследите за тем, чтобы было видно, как соотносятся размеры интервалов. Поясните теоретическую причину такого поведения доверительных интервалов.\n",
    "\n",
    "*Указание*: рассмотрите длину выборки около 20-30.\n",
    "\n",
    "Чтобы не плодить код, допишите следующую функцию (см. ниже). При выборе стиля графика помните, что если изображаются лишь точки и линии, то лучше использовать серый фон, а если присутствуют закрашенные области, то предпочтительнее белый. Графики первого типа еще называют \"легкими\", а второго — \"тяжелыми\".\n",
    "\n",
    "*Подсказка:* вам может пригодиться функция `plt.fill_between`.\n"
   ]
  },
  {
   "cell_type": "code",
   "execution_count": null,
   "metadata": {},
   "outputs": [],
   "source": [
    "def draw_confidence_interval(\n",
    "    left, right, estimation=None, sample=None,\n",
    "    ylim=(-10, 10), color_estimation='#FF3300', color_interval='#00CC66',\n",
    "    color_sample='#0066FF', label_estimation='Оценка',\n",
    "    sample_label='Семпл', interval_label=None\n",
    "):\n",
    "    '''\n",
    "    Рисует доверительный интервал и оценку в зависимости от размера выборки.\n",
    "\n",
    "    :param left: левые границы интервалов (в зависимости от n)\n",
    "    :param right: правые границы интервалов (в зависимости от n)\n",
    "    :param estimation: оценки (в зависимости от n)\n",
    "    :param sample: выборка\n",
    "    :param ylim: ограничение вертикальной оси\n",
    "    :param color_estimation: цвет оценки\n",
    "    :param color_interval: цвет интервала\n",
    "    :param color_sample: цвет выборки\n",
    "    :param label_estimation: подпись для оценки\n",
    "    '''\n",
    "\n",
    "    time = np.arange(len(left)) + 1\n",
    "\n",
    "    assert len(time) == len(right)\n",
    "\n",
    "    # ваш код\n",
    "\n",
    "    plt.legend(fontsize=16)\n",
    "    plt.ylim(ylim)\n",
    "    plt.xlabel('Размер выборки')\n",
    "    plt.title('Зависимость значений \\\n",
    "доверительного интервала от размера выборки')\n",
    "    plt.grid()"
   ]
  },
  {
   "cell_type": "code",
   "execution_count": null,
   "metadata": {},
   "outputs": [],
   "source": [
    "# ваш код"
   ]
  },
  {
   "cell_type": "markdown",
   "metadata": {},
   "source": [
    "**Вывод:** \n"
   ]
  },
  {
   "cell_type": "markdown",
   "metadata": {},
   "source": [
    "## Задача 2\n",
    "### Функция правдоподобия\n",
    "Дана параметрическая модель и 3 выборки, состоящие из 2-3 наблюдений. Для удобства, выборки представлены в виде python-кода — каждая выборка записана как список ее элементов; множество выборок представлено как список списков, соответствующих выборкам из множества. Нужно для каждой выборки построить график функции правдоподобия.\n",
    "\n",
    "*a).* Параметрическая модель $\\mathcal{N}(\\theta, 1)$, выборки: `[[-1, 1], [-5, 5], [-1, 5]]`\n",
    "\n",
    "*b).* Параметрическая модель $Exp(\\theta)$, выборки: `[[1, 2], [0.1, 1], [1, 10]]`\n",
    "\n",
    "*c).* Параметрическая модель $U[0, \\theta]$, выборки: `[[0.2, 0.8], [0.5, 1], [0.5, 1.3]]`\n",
    "\n",
    "*d).* Параметрическая модель $Bin(5, \\theta)$, выборки: `[[0, 1], [5, 5], [0, 5]]`\n",
    "\n",
    "*e).* Параметрическая модель $Pois(\\theta)$, выборки: `[[0, 1], [0, 10], [5, 10]]`\n",
    "\n",
    "*f).* Параметрическая модель $Сauchy(\\theta)$, где $\\theta$ — параметр сдвига, выборки: `[[-0.5, 0.5], [-2, 2], [-4, 0, 4]]`\n",
    "\n",
    "Выполнить задание, не создавая много кода, поможет следующая функция."
   ]
  },
  {
   "cell_type": "code",
   "execution_count": 16,
   "metadata": {},
   "outputs": [],
   "source": [
    "def draw_likelihood(density_function, grid, samples, label):\n",
    "    \"\"\"Изображает график функции правдоподобия для каждой из 3 выборок.\n",
    "\n",
    "    Аргументы:\n",
    "    density_function --- функция, считающая плотность (обычную или дискретную).\n",
    "        На вход данная функция должна принимать массив размера (1, len_sample)\n",
    "        и возвращать массив размера (len_grid, len_sample).\n",
    "    grid --- массив размера (len_grid, 1) --- сетка для построения графика;\n",
    "    samples --- три выборки;\n",
    "    label --- latex-код параметрической модели.\n",
    "    \"\"\"\n",
    "    assert len(samples) == 3, \"Число выборок не равно 3.\"\n",
    "\n",
    "    plt.figure(figsize=(18, 5))\n",
    "    for i, sample in enumerate(samples):\n",
    "        sample = np.array(sample)[np.newaxis, :]\n",
    "        likelihood = density_function(sample).prod(axis=1)\n",
    "\n",
    "        plt.subplot(1, 3, i+1)\n",
    "        plt.plot(grid, likelihood)\n",
    "        plt.xlabel('$\\\\theta$', fontsize=16)\n",
    "        plt.grid(ls=':')\n",
    "        plt.title(label + ', sample=' + str(sample), fontsize=16)\n",
    "    plt.show()"
   ]
  },
  {
   "cell_type": "markdown",
   "metadata": {},
   "source": [
    "Первый пункт можно выполнить с помощью следующего кода:"
   ]
  },
  {
   "cell_type": "code",
   "execution_count": 20,
   "metadata": {},
   "outputs": [
    {
     "data": {
      "image/png": "[encoded data removed]",
      "text/plain": [
       "<Figure size 1296x360 with 3 Axes>"
      ]
     },
     "metadata": {},
     "output_type": "display_data"
    }
   ],
   "source": [
    "grid = np.linspace(-5, 5, 1000).reshape((-1, 1))\n",
    "draw_likelihood(sps.norm(loc=grid).pdf, grid,\n",
    "                [[-1, 1], [-5, 5], [-1, 5]], '$\\\\mathcal{N}(\\\\theta, 1)$')"
   ]
  },
  {
   "cell_type": "markdown",
   "metadata": {},
   "source": [
    "Выполните остальные:"
   ]
  },
  {
   "cell_type": "code",
   "execution_count": null,
   "metadata": {},
   "outputs": [],
   "source": [
    "# ваш код"
   ]
  },
  {
   "cell_type": "markdown",
   "metadata": {},
   "source": [
    "Прокомментируйте полученные графики. Сделайте вывод о том, как функция правдоподобия для каждой модели зависит от выборки. Является ли функция правдоподобия плотностью?"
   ]
  },
  {
   "cell_type": "markdown",
   "metadata": {},
   "source": [
    "*Примечание:* В выводе для каждой модели требуется описать, как меняются значения функции (сдвиг, масштаб, форма) при изменении выборки, где достигается максимум, а также какие значения параметра более правдоподобны для данной выборки, какие — менее.\n",
    "\n",
    "**Вывод:**"
   ]
  },
  {
   "cell_type": "markdown",
   "metadata": {},
   "source": [
    "Сгенерируем выборку большого размера из стандартного нормального распределения и посчитаем ее функцию правдоподобия в модели $\\mathcal{N}(\\theta, 1)$. Выполните код ниже:"
   ]
  },
  {
   "cell_type": "code",
   "execution_count": 22,
   "metadata": {},
   "outputs": [
    {
     "name": "stdout",
     "output_type": "stream",
     "text": [
      "0.0\n"
     ]
    }
   ],
   "source": [
    "sample = sps.norm.rvs(size=10**5)\n",
    "likelihood = sps.norm.pdf(sample).prod()\n",
    "print(likelihood)"
   ]
  },
  {
   "cell_type": "markdown",
   "metadata": {},
   "source": [
    "Почему результат отличается от ожидаемого? Как обойти эту неприятность для подсчета оценки максимального правдоподобия? Реализуйте это.\n",
    "\n",
    "*Подсказка:* нужно использовать некоторый метод класса, реализующий это распределение"
   ]
  },
  {
   "cell_type": "markdown",
   "metadata": {},
   "source": [
    "**Ответ на вопрос и описание метода решения проблемы:**\n"
   ]
  },
  {
   "cell_type": "code",
   "execution_count": null,
   "metadata": {},
   "outputs": [],
   "source": [
    "# ваш код"
   ]
  }
 ],
 "metadata": {
  "kernelspec": {
   "display_name": "Python 3 (ipykernel)",
   "language": "python",
   "name": "python3"
  },
  "language_info": {
   "codemirror_mode": {
    "name": "ipython",
    "version": 3
   },
   "file_extension": ".py",
   "mimetype": "text/x-python",
   "name": "python",
   "nbconvert_exporter": "python",
   "pygments_lexer": "ipython3",
   "version": "3.10.9"
  },
  "varInspector": {
   "cols": {
    "lenName": 16,
    "lenType": 16,
    "lenVar": 40
   },
   "kernels_config": {
    "python": {
     "delete_cmd_postfix": "",
     "delete_cmd_prefix": "del ",
     "library": "var_list.py",
     "varRefreshCmd": "print(var_dic_list())"
    },
    "r": {
     "delete_cmd_postfix": ") ",
     "delete_cmd_prefix": "rm(",
     "library": "var_list.r",
     "varRefreshCmd": "cat(var_dic_list()) "
    }
   },
   "types_to_exclude": [
    "module",
    "function",
    "builtin_function_or_method",
    "instance",
    "_Feature"
   ],
   "window_display": false
  }
 },
 "nbformat": 4,
 "nbformat_minor": 2
}
