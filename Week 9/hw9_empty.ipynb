{
 "cells": [
  {
   "cell_type": "markdown",
   "id": "9157b443",
   "metadata": {},
   "source": [
    "# <a href=\"https://miptstats.github.io/courses/ad_mipt.html\">Phystech@DataScience</a>\n",
    "## Домашнее задание 9\n",
    "\n",
    "**Правила, <font color=\"red\">прочитайте внимательно</font>:**\n",
    "\n",
    "* Выполненную работу нужно отправить телеграм-боту `@miptstats_pds_bot`. Для начала работы с ботом каждый раз отправляйте `/start`. **Работы, присланные иным способом, не принимаются.**\n",
    "* Дедлайн см. в боте. После дедлайна работы не принимаются кроме случаев наличия уважительной причины.\n",
    "* Прислать нужно ноутбук в формате `ipynb`.\n",
    "* Выполнять задание необходимо полностью самостоятельно. **При обнаружении списывания все участники списывания будут сдавать устный зачет.**\n",
    "* Решения, размещенные на каких-либо интернет-ресурсах, не принимаются. Кроме того, публикация решения в открытом доступе может быть приравнена к предоставлении возможности списать.\n",
    "* Для выполнения задания используйте этот ноутбук в качестве основы, ничего не удаляя из него. Можно добавлять необходимое количество ячеек.\n",
    "* Комментарии к решению пишите в markdown-ячейках.\n",
    "* Выполнение задания (ход решения, выводы и пр.) должно быть осуществлено на русском языке.\n",
    "* Если код будет не понятен проверяющему, оценка может быть снижена.\n",
    "* Никакой код из данного задания при проверке запускаться не будет. *Если код студента не выполнен, недописан и т.д., то он не оценивается.*\n",
    "* **Код из рассказанных на занятиях ноутбуков можно использовать без ограничений.**\n",
    "\n",
    "**Правила оформления теоретических задач:**\n",
    "\n",
    "* Решения необходимо прислать одним из следующих способов:\n",
    "  * фотографией в правильной ориентации, где все четко видно, а почерк разборчив,\n",
    "    * отправив ее как файл боту вместе с ноутбуком *или*\n",
    "    * вставив ее в ноутбук посредством `Edit -> Insert Image` (<font color=\"red\">фото, вставленные ссылкой, не принимаются</font>);\n",
    "  * в виде $\\LaTeX$ в markdown-ячейках.\n",
    "* Решения не проверяются, если какое-то требование не выполнено. Особенно внимательно все проверьте в случае выбора второго пункта (вставки фото в ноутбук). <font color=\"red\"><b>Неправильно вставленные фотографии могут не передаться при отправке.</b></font> Для проверки попробуйте переместить `ipynb` в другую папку и открыть его там.\n",
    "* В решениях поясняйте, чем вы пользуетесь, хотя бы кратко. Например, если пользуетесь независимостью, то достаточно подписи вида \"*X и Y незав.*\"\n",
    "* Решение, в котором есть только ответ, и отсутствуют вычисления, оценивается в 0 баллов.\n",
    "\n",
    "**Баллы за задание:**\n",
    "\n",
    "<b><font color=\"blue\">Легкая часть</font></b> (достаточно на \"хор\"):\n",
    "* Задача 1 &mdash; 20 баллов\n",
    "* Задача 2 &mdash;  20 баллов\n",
    "* Задача 3 &mdash;  25 баллов\n",
    "* Задача 4 &mdash; 25 баллов\n",
    "\n",
    "<b><font color=\"orange\">Сложная часть</font></b> (необходимо на \"отл\"):\n",
    "* Задача 5 &mdash; 35 баллов\n",
    "\n",
    "\n",
    "-----"
   ]
  },
  {
   "cell_type": "code",
   "execution_count": 2,
   "id": "66c01268",
   "metadata": {},
   "outputs": [],
   "source": [
    "# Bot check\n",
    "\n",
    "# HW_ID: phds_hw9\n",
    "# Бот проверит этот ID и предупредит, если случайно сдать что-то не то.\n",
    "\n",
    "# Status: not final\n",
    "# Перед отправкой в финальном решении удали \"not\" в строчке выше.\n",
    "# Так бот проверит, что ты отправляешь финальную версию, а не промежуточную.\n",
    "# Никакие значения в этой ячейке не влияют на факт сдачи работы."
   ]
  },
  {
   "cell_type": "code",
   "execution_count": 3,
   "id": "6744ddcf",
   "metadata": {},
   "outputs": [],
   "source": [
    "import numpy as np\n",
    "import scipy.stats as sps\n",
    "import matplotlib.pyplot as plt\n",
    "import seaborn as sns\n",
    "\n",
    "sns.set(palette='Set2')"
   ]
  },
  {
   "cell_type": "markdown",
   "id": "004c83b3",
   "metadata": {},
   "source": [
    "### <b><i><font color=\"blue\">Легкая часть</font></i></b> \n"
   ]
  },
  {
   "cell_type": "markdown",
   "id": "0d1a2899",
   "metadata": {},
   "source": [
    "### Задача 1\n",
    "Пусть $X = ( X_1, ... X_n)$ — выборка из неизвестного распределения $\\mathsf{P} \\in \\{ \\mathsf{P}_{\\theta} | \\theta \\in \\Theta \\}$\n",
    "и для проверки гипотез $\\mathsf{H}_0 : \\theta \\in [−1, 1]$   vs.  $\\mathsf{H}_1 : \\theta \\notin [−1, 1]$ используется критерий\n",
    "$S = \\{x \\in \\mathbb{R}^n | T(x) > 1\\}$. Предположим, $T(x)$ имеет распределение $\\mathcal{N}(\\theta, 1)$. Какие\n",
    "ответы возможны в результате проверки данных гипотез и в каких случаях? Найдите\n",
    "вероятность ошибки первого рода.\n",
    "\n",
    "*Указание:*\n",
    "- Не забудьте, что в определении вероятности ошибки I рода стоит супремум по всем параметрам из основной гипотезы\n",
    "- Можно показать, где достигается супремум графически. Например, с помощью `sps.norm`, где параметр `loc` отвечает за сдвиг.\n",
    "\n"
   ]
  },
  {
   "cell_type": "markdown",
   "id": "3e8ab143",
   "metadata": {},
   "source": [
    "Нужно в статистику $T(x)$ подставить нашу выборку: $T(X)$. Если при этом окажется, что значение статистики больше 1, то необходимо отвергнуть основную гипотезу, т.е принять, что $\\theta\\notin[-1, 1]$. Если же, статистика окажется меньше или равна 1, то основная гипотеза не отвергается. \n",
    "\n",
    "Вероятность ошибки первого рода -- это вероятность отвергнуть основную гипотезу, при том, что она на самом деле верна:\n",
    "$$\\sup_{\\theta\\in[-1, 1]}P_{\\theta}(T(X) > 1) = \\sup_{\\theta\\in[-1, 1]}P_{\\theta}(\\mathcal{N}(\\theta, 1) > 1) = 0.5$$\n",
    "Поясняющая картинака ниже"
   ]
  },
  {
   "cell_type": "code",
   "execution_count": 4,
   "id": "d2314c6a",
   "metadata": {},
   "outputs": [
    {
     "data": {
      "image/png": "[encoded data removed]",
      "text/plain": [
       "<Figure size 640x480 with 1 Axes>"
      ]
     },
     "metadata": {},
     "output_type": "display_data"
    }
   ],
   "source": [
    "theta = -0.2\n",
    "x_axis = np.arange(-3, theta + 3, 0.001)\n",
    "x_axis1 = np.arange(1, theta + 3, 0.001)\n",
    "plt.plot(x_axis, sps.norm.pdf(x_axis, theta, 1))\n",
    "plt.fill_between(x_axis1,sps.norm.pdf(x_axis1, theta, 1), alpha=0.2)\n",
    "\n",
    "plt.vlines(1, 0, 0.4, color='purple')\n",
    "plt.vlines(-1, -0.01, 0.01, color='red')\n",
    "plt.vlines(1, -0.01, 0.01, color='red')\n",
    "plt.hlines(0, -1, 1, color='red')\n",
    "plt.vlines(theta, 0, 0.4, color='orange', linestyle='dashed')\n",
    "plt.show()"
   ]
  },
  {
   "cell_type": "markdown",
   "id": "c9e83f7e",
   "metadata": {},
   "source": [
    "### Задача 2\n",
    "\n",
    "Проведен эксперимент, получены данные из экспоненциального распределения."
   ]
  },
  {
   "cell_type": "code",
   "execution_count": 5,
   "id": "874ad1c7",
   "metadata": {},
   "outputs": [],
   "source": [
    "sample = np.array(\n",
    "    [\n",
    "        0.11731702,\n",
    "        0.75253036,\n",
    "        0.32918642,\n",
    "        0.22823564,\n",
    "        0.04240622,\n",
    "        0.04239907,\n",
    "        0.01495969,\n",
    "        0.50280772,\n",
    "        0.22977054,\n",
    "        0.30781252,\n",
    "        0.00519983,\n",
    "        0.87588937,\n",
    "        0.44660739,\n",
    "        0.05967191,\n",
    "        0.05016975,\n",
    "        0.05065286,\n",
    "        0.09068843,\n",
    "        0.18598196,\n",
    "        0.14138427,\n",
    "        0.08605575,\n",
    "        0.23659272,\n",
    "        0.03755863,\n",
    "        0.08637888,\n",
    "        0.1140693,\n",
    "        0.15223367,\n",
    "        0.384484,\n",
    "        0.05568397,\n",
    "        0.18050729,\n",
    "        0.22437618,\n",
    "        0.01189096,\n",
    "    ]\n",
    ")"
   ]
  },
  {
   "cell_type": "markdown",
   "id": "3a3e2c61",
   "metadata": {},
   "source": [
    "Необходимо проверить, является ли это распределение с параметром $\\lambda=2$. Используя Критерий Вальда, сделайте вывод по данному предположению.\n",
    "\n",
    "$X_1, ... X_n$ &mdash; выборка из распределения $Exp(\\lambda)$.  \n",
    "Проверьте гипотезу $\\mathsf{H}_0\\colon \\lambda = 2$ vs. $\\mathsf{H}_1\\colon \\lambda \\neq 2$  \n",
    "  \n",
    "\n",
    " \n",
    " "
   ]
  },
  {
   "cell_type": "markdown",
   "id": "61838f5e",
   "metadata": {},
   "source": [
    "**1.** Из лекции вы узнали про критерий Вальда.\n",
    "Для случая двусторонней альтернативы $\\mathsf{H}_1\\colon \\theta \\neq \\theta_0$ критерий имел следующий вид:\n",
    "$$\\large{S = \\left\\{ \\left|\\sqrt{n} \\frac{\\hat{\\theta} - \\theta_0}{\\hat{\\sigma}} \\right| > z_{1 - \\frac{\\alpha}{2}} \\right\\}}$$\n",
    "\n",
    "где $\\hat{\\theta}$ &mdash; асимптотически нормальная оценка $\\theta$ с асимптотической дисперсией $\\sigma^2(\\theta)$, \n",
    "$\\hat{\\sigma}$ &mdash; состоятельная оценка $\\sigma(\\theta)$.  \n",
    "\n",
    "Эквивалентный асимптотичсекий доверительный интервал для параметра $\\theta$ уровня доверия $1-\\alpha$\n",
    "$$C = \\left( \\hat{\\theta} - \\frac{z_{1-\\alpha/2} \\hat{\\sigma}}{\\sqrt{n}}, \\hat{\\theta} + \\frac{z_{1-\\alpha/2} \\hat{\\sigma}}{\\sqrt{n}}\\right)$$\n",
    "\n",
    "На первой лекции вы получали, что $\\frac{1}{\\overline{X}}$ &mdash; АНО для параметра $\\theta$ c асимптотической дисперсией $\\theta^2$\n",
    "\n",
    "\n",
    " **Выпишите состоятельную оценку дисперсии и статистику критерия Вальда**\n",
    " \n",
    " "
   ]
  },
  {
   "cell_type": "markdown",
   "id": "fc62e64c",
   "metadata": {},
   "source": [
    "**Ответ:** $$W = \\sqrt{n} \\frac{\\hat{\\theta} - \\theta_0}{\\hat{\\sigma}},\\qquad\\sigma = \\sqrt{\\frac{1}{\\theta^2}} = \\frac{1}{\\theta},\\qquad\\widehat{\\sigma} = \\overline{X}$$"
   ]
  },
  {
   "cell_type": "markdown",
   "id": "5d9971ca",
   "metadata": {},
   "source": [
    "На лекции вы узнали про p-value &mdash; это вероятность получить при справедливости $H_0$ такое значение статистики $t = T(x)$ или еще более экстремальное, то есть в случае двустороннего критерия\n",
    "$$p(x) = \\mathsf{P}_0(T(X) \\geq|t|) + \\mathsf{P}_0(T(X) \\leq -|t|)$$\n",
    "Для расчета можно использовать функции из библиотеки `scipy.stats`."
   ]
  },
  {
   "cell_type": "markdown",
   "id": "dd8eb639",
   "metadata": {},
   "source": [
    "**2**. Оформите функцию подсчета статистики критерия, p-value и доверительного интервала "
   ]
  },
  {
   "cell_type": "code",
   "execution_count": 6,
   "id": "d82257c3",
   "metadata": {},
   "outputs": [],
   "source": [
    "def wald_test(\n",
    "    sample,\n",
    "    theta,\n",
    "    estimation_theta,\n",
    "    estimation_sigma,\n",
    "    alternative=\"two_sided\",\n",
    "    alpha=0.05,\n",
    "):\n",
    "    n = len(sample) ** 0.5\n",
    "    z = sps.norm.ppf(1 - alpha / 2)\n",
    "\n",
    "    W = n * (estimation_theta - theta) / estimation_sigma\n",
    "    \n",
    "    left = round(estimation_theta - z * estimation_sigma / n, 3)\n",
    "    right = round(estimation_theta + z * estimation_sigma / n, 3)\n",
    "\n",
    "    if alternative == \"two_sided\":\n",
    "        p_value = sps.norm.sf(np.abs(W)) + sps.norm.cdf(-np.abs(W))\n",
    "        confident_interval = (left, right)\n",
    "\n",
    "    elif alternative == \"less\":\n",
    "        p_value = sps.norm.cdf(W)\n",
    "        confident_interval = (-np.inf, left)\n",
    "\n",
    "    elif alternative == \"greater\":\n",
    "        p_value = sps.norm.sf(W)\n",
    "        confident_interval = (right, np.inf)\n",
    "\n",
    "    else:\n",
    "        raise ValueError(\"alternative name is wrong\")\n",
    "\n",
    "    return W, p_value, confident_interval"
   ]
  },
  {
   "cell_type": "markdown",
   "id": "beef33ef",
   "metadata": {},
   "source": [
    "**3**. Проверьте гипотезу с двусторонней альтернативой."
   ]
  },
  {
   "cell_type": "code",
   "execution_count": 7,
   "id": "da9bd91e",
   "metadata": {},
   "outputs": [],
   "source": [
    "estimation_theta = 1 / sample.mean()\n",
    "estimation_sigma = 1 / estimation_theta"
   ]
  },
  {
   "cell_type": "code",
   "execution_count": 8,
   "id": "babdcce6",
   "metadata": {},
   "outputs": [
    {
     "data": {
      "text/plain": [
       "(80.58843261697679, 0.0, (4.892, 5.036))"
      ]
     },
     "execution_count": 8,
     "metadata": {},
     "output_type": "execute_result"
    }
   ],
   "source": [
    "wald_test(\n",
    "    sample=sample,\n",
    "    theta=2,\n",
    "    estimation_theta=estimation_theta,\n",
    "    estimation_sigma=estimation_sigma,\n",
    ")"
   ]
  },
  {
   "cell_type": "markdown",
   "id": "ab32a1f0",
   "metadata": {},
   "source": [
    "**Вывод:** Видим, что эту гипотезу нужно отвергнуть в пользу альтернативы. То есть параметр распределения вряд ли равен 2. Причём, степень уверенности в отвержении очень большая. ОЧЕНЬ\n",
    "\n",
    "Также по ДИ можно подумать, что параметр близок к 5"
   ]
  },
  {
   "cell_type": "markdown",
   "id": "b9269b95",
   "metadata": {},
   "source": [
    "**4**. Проверьте гипотезу с правосторонней альтернативой."
   ]
  },
  {
   "cell_type": "code",
   "execution_count": 9,
   "id": "852db5bd",
   "metadata": {},
   "outputs": [
    {
     "data": {
      "text/plain": [
       "(80.58843261697679, 0.0, (5.036, inf))"
      ]
     },
     "execution_count": 9,
     "metadata": {},
     "output_type": "execute_result"
    }
   ],
   "source": [
    "wald_test(\n",
    "    sample=sample,\n",
    "    theta=2,\n",
    "    estimation_theta=estimation_theta,\n",
    "    estimation_sigma=estimation_sigma,\n",
    "    alternative='greater'\n",
    ")"
   ]
  },
  {
   "cell_type": "markdown",
   "id": "677c5087",
   "metadata": {},
   "source": [
    "**Вывод:** Тут видим, что опять так нашу гипотезу хорошо бы отвергнуть в пользу альтернативы. И действительно, это согласуется с предположением, сделанным на основе ДИ, о том, что наш параметр равен 5, то есть больше 2. "
   ]
  },
  {
   "cell_type": "markdown",
   "id": "14bcda8f",
   "metadata": {},
   "source": [
    "**5**. Проверьте гипотезу с левосторонней альтернативой."
   ]
  },
  {
   "cell_type": "code",
   "execution_count": 10,
   "id": "e37f9413",
   "metadata": {},
   "outputs": [
    {
     "data": {
      "text/plain": [
       "(80.58843261697679, 1.0, (-inf, 4.892))"
      ]
     },
     "execution_count": 10,
     "metadata": {},
     "output_type": "execute_result"
    }
   ],
   "source": [
    "wald_test(\n",
    "    sample=sample,\n",
    "    theta=2,\n",
    "    estimation_theta=estimation_theta,\n",
    "    estimation_sigma=estimation_sigma,\n",
    "    alternative='less'\n",
    ")"
   ]
  },
  {
   "cell_type": "markdown",
   "id": "a899cb81",
   "metadata": {},
   "source": [
    "**Вывод:** А вот тест говорит, что вероятнее наш параметр 2, чем он меньше 2. Впрочем, и p-value -- это не вероятность того, что гипотеза верна, так что мы просто поняли, что предлагаемая альтернатива хуже. Это опять таки согласуется со сделанным ранее предположением."
   ]
  },
  {
   "cell_type": "markdown",
   "id": "e7bb3dec",
   "metadata": {},
   "source": [
    "Построим гистограмму, отображающую наши данные и плотности распределения с параметроми 2 и 5. Видим, что второе и правда подходит куда лучще."
   ]
  },
  {
   "cell_type": "code",
   "execution_count": 11,
   "id": "41fe098f",
   "metadata": {},
   "outputs": [
    {
     "data": {
      "image/png": "[encoded data removed]",
      "text/plain": [
       "<Figure size 640x480 with 1 Axes>"
      ]
     },
     "metadata": {},
     "output_type": "display_data"
    }
   ],
   "source": [
    "xs = np.arange(0, 1, 0.1)\n",
    "plt.plot(xs, sps.expon.pdf(xs, scale=0.2), label=r'$\\theta = 5$')\n",
    "plt.plot(xs, sps.expon.pdf(xs, scale=0.5), label=r'$\\theta = 2$')\n",
    "plt.hist(sample, density=True, bins=15)\n",
    "plt.legend()\n",
    "plt.show()"
   ]
  },
  {
   "cell_type": "markdown",
   "id": "6a6e7f40",
   "metadata": {},
   "source": [
    "Напоследок проведём тест гиптезы, что $\\theta = 5$"
   ]
  },
  {
   "cell_type": "code",
   "execution_count": 12,
   "id": "427af5b4",
   "metadata": {},
   "outputs": [
    {
     "data": {
      "text/plain": [
       "(-0.9785587819194635, 0.3277980336433053, (4.892, 5.036))"
      ]
     },
     "execution_count": 12,
     "metadata": {},
     "output_type": "execute_result"
    }
   ],
   "source": [
    "wald_test(\n",
    "    sample=sample,\n",
    "    theta=5,\n",
    "    estimation_theta=estimation_theta,\n",
    "    estimation_sigma=estimation_sigma,\n",
    ")"
   ]
  },
  {
   "cell_type": "markdown",
   "id": "25aba7b1",
   "metadata": {},
   "source": [
    "Ну вот, тут тест говорит, что такую гипотезу отвергать не стоит, даже в пользу двусторонней альтернативы"
   ]
  },
  {
   "cell_type": "markdown",
   "id": "37f3364a",
   "metadata": {},
   "source": [
    "### Задача 3\n",
    "\n",
    "На практике часто рассматривают асимптотические критерии, например, критерий Вальда. Такие критерии контролируют вероятность ошибки I рода на уровне $\\alpha$ только в пределе, однако для небольших выборок она может сильно отличаться от $\\alpha$, причем нередко в большую сторону. Поэтому для таких критериев возникает необходимость в вычислении значения вероятности ошибки I рода или *реального уровня значимости* при конечной выборке.\n",
    "\n",
    "Зачастую посчитать точное значение реального уровня значимости довольно сложно, поэтому вместо него вычисляют оценку с помощью сэмплирования по методу Монте-Карло.\n",
    "\n",
    "Пусть гипотеза $\\mathsf{H}_0$ простая, то есть $\\mathsf{H}_0\\colon \\mathsf{P} = \\mathsf{P}_0$. Для ее проверки по конечной выборке $X_1, ..., X_n$ используется критерий $S$. **Опишите схему оценки реального уровня** значимости критерия $S$ методом Монте-Карло.\n"
   ]
  },
  {
   "cell_type": "markdown",
   "id": "d76af73a",
   "metadata": {},
   "source": [
    "**Ответ:** Алгоритм действий такой:\n",
    "1. Генерируем множество выборок $X_n, n = \\overline{1, N}$ из распределения $P_0$\n",
    "\n",
    "2. Для каждой выборки проверяем критерий: лежит ли $X_n$ в $S$\n",
    "\n",
    "3. Оцениваем реальный уровень значимости как среднее число выборок, для которых критерий выполнился: $\\frac{\\sum_{i=1}^{N}\\mathbb I(X_i\\in S)}{N}$"
   ]
  },
  {
   "cell_type": "markdown",
   "id": "1d6e5aaa",
   "metadata": {},
   "source": [
    "Если гипотеза $\\mathsf{H}_0$ сложная, то есть $\\mathsf{H}_0\\colon \\mathsf{P} \\in \\mathscr{P}_0$, то можно повторить такую процедуру несколько раз для разных $\\mathsf{P} \\in \\mathscr{P}_0$.\n",
    "\n",
    "Рассмотрим альтернативную гипотезу $\\mathsf{H}_1\\colon \\mathsf{P} \\in \\mathscr{P}_1$. **Опишите схему оценки мощности** критерия $S$ методом Монте-Карло."
   ]
  },
  {
   "cell_type": "markdown",
   "id": "b7ef9eb9",
   "metadata": {},
   "source": [
    "**Ответ:** Мощность -- это $1 - \\mathbb{P}(2\\text{ рода})$. То есть нам нужно оценить $\\mathbb{P}(X\\in S|\\mathsf{P} \\in \\mathscr{P}_1)$. Таким образом необходимо выбрать несколько функций распределения ($P_i\\in\\mathscr{P}_1,~i = \\overline{1, K}$). Для каждой конкретной ф.р. проделать процедуру, описанную выше. А затем взять максимум из результатов"
   ]
  },
  {
   "cell_type": "markdown",
   "id": "9dd91e81",
   "metadata": {},
   "source": [
    "Пусть $X_1, ..., X_n$ &mdash; выборка из пуассоновского распределения с параметром $\\theta$. Рассмотрим гипотезы $\\mathsf{H}_0\\colon \\theta = 1\\ \\ vs.\\ \\ \\mathsf{H}_1\\colon \\theta \\not= 1$ и критерий Вальда для их проверки.\n",
    "\n",
    "**1.** **Оцените реальный уровень значимости** критерия для $ n = 50$."
   ]
  },
  {
   "cell_type": "code",
   "execution_count": 13,
   "id": "988feee1",
   "metadata": {},
   "outputs": [
    {
     "data": {
      "text/plain": [
       "0.076"
      ]
     },
     "execution_count": 13,
     "metadata": {},
     "output_type": "execute_result"
    }
   ],
   "source": [
    "mu = 1\n",
    "sample_count = 500\n",
    "sample = sps.poisson.rvs(size=(sample_count, 50), mu=mu)\n",
    "\n",
    "estimation_theta = sample.mean(axis=1)\n",
    "estimation_sigma = estimation_theta\n",
    "\n",
    "counter = 0\n",
    "for i in range(sample_count):\n",
    "    _, p_value, conf_int = wald_test(sample[i], mu, estimation_theta[i], estimation_sigma[i])\n",
    "    is_rejected = p_value <= 0.05\n",
    "    if is_rejected:\n",
    "        counter += 1\n",
    "        \n",
    "counter / sample_count"
   ]
  },
  {
   "cell_type": "markdown",
   "id": "76973cfd",
   "metadata": {},
   "source": [
    "**Вывод:** Получили реальный уровень значимости 0.68 -- довольно близкий к 0.05, хотя и побольше. Интересно было бы поисследовать его скорость сходимости в зависимости от числа элементов в выборке."
   ]
  },
  {
   "cell_type": "code",
   "execution_count": 14,
   "id": "0610e178",
   "metadata": {},
   "outputs": [
    {
     "name": "stderr",
     "output_type": "stream",
     "text": [
      "C:\\Users\\Dima\\AppData\\Local\\Temp\\ipykernel_20064\\449184018.py:12: RuntimeWarning: divide by zero encountered in scalar divide\n",
      "  W = n * (estimation_theta - theta) / estimation_sigma\n"
     ]
    },
    {
     "data": {
      "image/png": "[encoded data removed]",
      "text/plain": [
       "<Figure size 640x480 with 1 Axes>"
      ]
     },
     "metadata": {},
     "output_type": "display_data"
    }
   ],
   "source": [
    "alphas = []\n",
    "sample_count = 500\n",
    "for sample_size in range(1, 1000, 10):\n",
    "    mu = 1\n",
    "    sample = sps.poisson.rvs(size=(sample_count, sample_size), mu=mu)\n",
    "\n",
    "    estimation_theta = sample.mean(axis=1)\n",
    "    estimation_sigma = estimation_theta\n",
    "\n",
    "    counter = 0\n",
    "    for i in range(1, sample_count):\n",
    "        _, p_value, conf_int = wald_test(sample[i], mu, estimation_theta[i], estimation_sigma[i])\n",
    "        is_rejected = p_value <= 0.05\n",
    "        if is_rejected:\n",
    "            counter += 1\n",
    "            \n",
    "    alphas.append(counter / sample_count)\n",
    "    \n",
    "plt.plot(np.linspace(1, 1000, 100), alphas)\n",
    "plt.xlabel('Размер выборки')\n",
    "plt.ylabel('Реальный уровень значимости')\n",
    "plt.show()"
   ]
  },
  {
   "cell_type": "markdown",
   "id": "3a674ccd",
   "metadata": {},
   "source": [
    "И правда сходится к 0.05, причём довольно быстро"
   ]
  },
  {
   "cell_type": "markdown",
   "id": "4e645cc9",
   "metadata": {},
   "source": [
    "**2.** Пусть $n=50$. **Сравните мощности критериев**, соответствующих двусторонней, левосторонней и правосторонней альтернативам при $\\theta=0.2$ и при $\\theta=2$."
   ]
  },
  {
   "cell_type": "code",
   "execution_count": 15,
   "id": "2962828c",
   "metadata": {},
   "outputs": [],
   "source": [
    "def calculate_alpha(mu, alternative):\n",
    "    sample_count = 500\n",
    "    sample = sps.poisson.rvs(size=(sample_count, 50), mu=mu)\n",
    "\n",
    "    estimation_theta = sample.mean(axis=1)\n",
    "    estimation_sigma = estimation_theta\n",
    "\n",
    "    counter = 0\n",
    "    for i in range(sample_count):\n",
    "        _, p_value, _ = wald_test(sample[i], mu, estimation_theta[i], estimation_sigma[i], alternative=alternative)\n",
    "        if p_value <= 0.05:\n",
    "            counter += 1\n",
    "            \n",
    "    return counter / sample_count"
   ]
  },
  {
   "cell_type": "markdown",
   "id": "385ccc32",
   "metadata": {},
   "source": [
    "Двусторонняя альтернатива"
   ]
  },
  {
   "cell_type": "code",
   "execution_count": 16,
   "id": "51b10c35",
   "metadata": {},
   "outputs": [
    {
     "name": "stderr",
     "output_type": "stream",
     "text": [
      "C:\\Users\\Dima\\AppData\\Local\\Temp\\ipykernel_20064\\449184018.py:12: RuntimeWarning: invalid value encountered in scalar divide\n",
      "  W = n * (estimation_theta - theta) / estimation_sigma\n",
      "C:\\Users\\Dima\\AppData\\Local\\Temp\\ipykernel_20064\\449184018.py:12: RuntimeWarning: divide by zero encountered in scalar divide\n",
      "  W = n * (estimation_theta - theta) / estimation_sigma\n"
     ]
    },
    {
     "name": "stdout",
     "output_type": "stream",
     "text": [
      "Мощность левосторонней альтернативы: 0.3773\n",
      "Мощность правосторонней альтернативы: 0.013600000000000001\n",
      "Мощность двусторонней альтернативы: 0.30245\n"
     ]
    }
   ],
   "source": [
    "mu = 0.2\n",
    "mu_left = np.linspace(0, mu - 0.05, 20)\n",
    "mu_right = np.linspace(mu + 0.05, 5, 20)\n",
    "\n",
    "l_alpha = []\n",
    "r_alpha = []\n",
    "lr_alpha = []\n",
    "\n",
    "for mu in mu_left:\n",
    "    l_alpha.append(calculate_alpha(mu, \"less\"))\n",
    "    lr_alpha.append(calculate_alpha(mu, \"two_sided\"))\n",
    "    \n",
    "for mu in mu_right:\n",
    "    r_alpha.append(calculate_alpha(mu, \"greater\"))\n",
    "    lr_alpha.append(calculate_alpha(mu, \"two_sided\"))\n",
    "\n",
    "l_alpha = np.array(l_alpha)\n",
    "r_alpha = np.array(r_alpha)\n",
    "lr_alpha = np.array(lr_alpha)\n",
    "print(f'Мощность левосторонней альтернативы: {l_alpha.mean()}')\n",
    "print(f'Мощность правосторонней альтернативы: {r_alpha.mean()}')\n",
    "print(f'Мощность двусторонней альтернативы: {lr_alpha.mean()}')"
   ]
  },
  {
   "cell_type": "code",
   "execution_count": 17,
   "id": "7241b995",
   "metadata": {},
   "outputs": [
    {
     "name": "stderr",
     "output_type": "stream",
     "text": [
      "C:\\Users\\Dima\\AppData\\Local\\Temp\\ipykernel_20064\\449184018.py:12: RuntimeWarning: invalid value encountered in scalar divide\n",
      "  W = n * (estimation_theta - theta) / estimation_sigma\n",
      "C:\\Users\\Dima\\AppData\\Local\\Temp\\ipykernel_20064\\449184018.py:12: RuntimeWarning: divide by zero encountered in scalar divide\n",
      "  W = n * (estimation_theta - theta) / estimation_sigma\n"
     ]
    },
    {
     "name": "stdout",
     "output_type": "stream",
     "text": [
      "Мощность левосторонней альтернативы: 0.1243\n",
      "Мощность правосторонней альтернативы: 0.0002\n",
      "Мощность двусторонней альтернативы: 0.05720000000000001\n"
     ]
    }
   ],
   "source": [
    "mu = 2\n",
    "mu_left = np.linspace(0, mu - 0.1, 20)\n",
    "mu_right = np.linspace(mu + 0.1, 5, 20)\n",
    "\n",
    "l_alpha = []\n",
    "r_alpha = []\n",
    "lr_alpha = []\n",
    "\n",
    "for mu in mu_left:\n",
    "    l_alpha.append(calculate_alpha(mu, \"less\"))\n",
    "    lr_alpha.append(calculate_alpha(mu, \"two_sided\"))\n",
    "    \n",
    "for mu in mu_right:\n",
    "    r_alpha.append(calculate_alpha(mu, \"greater\"))\n",
    "    lr_alpha.append(calculate_alpha(mu, \"two_sided\"))\n",
    "\n",
    "l_alpha = np.array(l_alpha)\n",
    "r_alpha = np.array(r_alpha)\n",
    "lr_alpha = np.array(lr_alpha)\n",
    "print(f'Мощность левосторонней альтернативы: {l_alpha.mean()}')\n",
    "print(f'Мощность правосторонней альтернативы: {r_alpha.mean()}')\n",
    "print(f'Мощность двусторонней альтернативы: {lr_alpha.mean()}')"
   ]
  },
  {
   "cell_type": "markdown",
   "id": "9419248f",
   "metadata": {},
   "source": [
    "**Вывод:** Видим, что двусторонний критерий менее мощный, чем односторонний"
   ]
  },
  {
   "cell_type": "markdown",
   "id": "bc47e3b0",
   "metadata": {},
   "source": [
    "\n",
    "\n",
    "### Задача 4"
   ]
  },
  {
   "cell_type": "markdown",
   "id": "2d01f479",
   "metadata": {},
   "source": [
    "**Профиль физика**\n",
    "\n",
    "Период колебания математического маятника можно расчиатать по следующей формуле:\n",
    "$$T = 2\\pi \\sqrt{\\frac{l}{g}}$$\n",
    "Вы выполнили лабораторную работу по вычислению ускорения свободного падения. Длина нити маятника 50 см. В своей работе вы измеряли время 10 полных колебаний (10 периодов) с помощью обычного секундомера и получили такие значение: \n",
    "\n",
    "\n"
   ]
  },
  {
   "cell_type": "code",
   "execution_count": 18,
   "id": "48281659",
   "metadata": {},
   "outputs": [],
   "source": [
    "T_sample = [14.47, 14.46, 14.73, 14.74, 16.14, 12.6, 14.17, 12.83, 14.1, 12.81, 12.98, \n",
    "            13.84, 13.96, 13.6, 14.13, 15.32, 13.98, 13.96, 12.86, 15.46, 13.2, 15.26, \n",
    "            14.86, 14.49, 14.8, 12.92, 14.65, 14.47, 15.88, 15.04, 14.84, 15.12, 12.96, \n",
    "            16.2, 11.99, 15.57, 13.55, 13.16, 14.76, 13.79, 12.58, 14.61, 14.1, 14.54, \n",
    "            14.72, 14.87, 13.37, 14.04, 13.09, 14.7]"
   ]
  },
  {
   "cell_type": "markdown",
   "id": "c548b045",
   "metadata": {},
   "source": [
    "Получите массив величин g, используя формулу выше."
   ]
  },
  {
   "cell_type": "code",
   "execution_count": 19,
   "id": "75e37d64",
   "metadata": {},
   "outputs": [],
   "source": [
    "g = 200 * np.pi ** 2 / np.power(T_sample, 2)"
   ]
  },
  {
   "cell_type": "markdown",
   "id": "c7c6586c",
   "metadata": {},
   "source": [
    "Предположим, такие величины имеют нормальное распределение $\\mathcal{N}(a, \\sigma^2)$. Используйте критерий Вальда для проверки гипотезы $\\mathsf{H}_0: a = 9.81$ vs $\\mathsf{H}_1: a \\neq 9.81$"
   ]
  },
  {
   "cell_type": "markdown",
   "id": "d0284ac4",
   "metadata": {},
   "source": [
    "В качесте оценки среднего возьмём выборочное среднее, а в качестве оценки дисперсии -- выборочную дисперсию:\n",
    "$$\\widehat{a} = \\overline{X},\\qquad\\widehat{\\sigma} = S = \\sqrt{\\overline{X^2} - \\overline{X}^2}$$"
   ]
  },
  {
   "cell_type": "code",
   "execution_count": 20,
   "id": "5669ee57",
   "metadata": {},
   "outputs": [
    {
     "data": {
      "text/plain": [
       "(2.267224448176054, 0.023376518061216, (9.829, 10.075))"
      ]
     },
     "execution_count": 20,
     "metadata": {},
     "output_type": "execute_result"
    }
   ],
   "source": [
    "estimation_a = g.mean()\n",
    "estimation_sigma = (np.power(g, 2).mean() - estimation_a ** 2) ** 0.5\n",
    "\n",
    "wald_test(\n",
    "    sample=sample,\n",
    "    theta=9.81,\n",
    "    estimation_theta=estimation_a,\n",
    "    estimation_sigma=estimation_sigma,\n",
    ")"
   ]
  },
  {
   "cell_type": "markdown",
   "id": "e163db40",
   "metadata": {},
   "source": [
    "**Вывод:** Как видим, критерий говорит, что гипотеза достаточно хорошо, чтобы можно было её рассматривать. Однако, тут стоит обратить внимание на широкий ДИ. Также, например, можно проверить накую гипотезу: $\\mathsf{H}_0: a = 10$ vs $\\mathsf{H}_1: a \\neq 10$ и увидеть, что её тоже отвергать не стоит. Поэтому делаем вывод, что гипотеза достаточно хороша, но не останавливаемся на этом. Ещё, мне кажется, что есть некая проблема с нашей гипотезой в том, что , по-сути, мы просто не намерили g с такой точностью, на которую претендуем в гипотезе. Поэтому она немного дурацкая. Точно так же можно было бы написать хоть 100 знаков после запятой и результат был бы прежним, хотя знаки эти были бы выдуманны из головы. Так что, в каком-то смысле результат этого теста немного неинформативен и может ввести читателей в заблуждение. Мне кажется, разумнее было бы оставить 1 знак после запятой или обойтись целым значением"
   ]
  },
  {
   "cell_type": "code",
   "execution_count": 21,
   "id": "11354bd6",
   "metadata": {},
   "outputs": [
    {
     "data": {
      "text/plain": [
       "(-0.7610829961375778, 0.4466074960180797, (9.829, 10.075))"
      ]
     },
     "execution_count": 21,
     "metadata": {},
     "output_type": "execute_result"
    }
   ],
   "source": [
    "estimation_a = g.mean()\n",
    "estimation_sigma = (np.power(g, 2).mean() - estimation_a ** 2) ** 0.5\n",
    "\n",
    "wald_test(\n",
    "    sample=sample,\n",
    "    theta=10,\n",
    "    estimation_theta=estimation_a,\n",
    "    estimation_sigma=estimation_sigma,\n",
    ")"
   ]
  },
  {
   "cell_type": "markdown",
   "id": "ee6222f6",
   "metadata": {},
   "source": [
    "Ну вот, тоже выше уровня значимости"
   ]
  },
  {
   "cell_type": "markdown",
   "id": "adfe0600",
   "metadata": {},
   "source": [
    "### <b><i><font color=\"orange\">Сложная часть</font></i></b>"
   ]
  },
  {
   "cell_type": "markdown",
   "id": "034c700e",
   "metadata": {},
   "source": [
    "\n",
    "###  Задача 5\n",
    "1. Пусть $X = ( X_1, ... X_n)$ — выборка из неизвестного распределения $\\mathsf{P} \\in \\mathcal{N}(a, \\sigma^2)$. Постройте критерий для проверки гипотез $\\mathsf{H}_0 : a = 0 $   vs.  $\\mathsf{H}_1 : a > 0$ уровня значимости $\\alpha$.\n",
    "\n",
    "Бонусный сложный пункт: получите выражение для p-value аналогично правостороннему критерию Вальда\n",
    "\n",
    "*Указание:*\n",
    "- Используйте статистику $T(X) = \\sqrt{n - 1} \\frac{\\overline{X}}{s}$, использовавшуюся при построении точных доверительных интервалов в нормальной модели. Какое распределение она имеет при справедливости $\\mathsf{H}_0$ (т.е. при $a = 0$)? \n",
    "- Подумайте, какой вид должен иметь критерий? При каких значениях $T(X)$ гипотезу $\\mathsf{H}_0$ разумно отвергать?\n",
    "- Этот критерий реализован в `scipy.stats.ttest_1samp`. Использовать для данной задачи его можно следующим образом: `sps.ttest_1samp(sample, popmean=0, alternative='greater')`. В результате применения функция вернет значение статистики критерия, p-value и количество степеней свободы. Вы можете проверить свой ответ с ее помощью."
   ]
  },
  {
   "cell_type": "markdown",
   "id": "2640eb17",
   "metadata": {},
   "source": [
    "$$T(X) = \\sqrt{n - 1}\\frac{\\overline{X}}{S} = \\sqrt{n}\\frac{\\overline{X}}{\\sqrt{\\frac{n}{n - 1}S^2}} = \\sqrt{n}\\frac{\\overline{X} - 0}{\\widehat{\\sigma}}$$\n",
    "Воспользуемся ЦПТ:\n",
    "$$T(X) = \\sqrt{n}\\frac{\\overline{X} - 0}{\\widehat{\\sigma}} \\rightarrow \\mathcal{N}(0, 1)$$\n",
    "Эта сходимость есть, если $X$ действительно пришла из нормального распределения со средним $0$. В ином случае:\n",
    "$$T(X) = \\sqrt{n}\\frac{\\overline{X} - a + a}{\\widehat{\\sigma}} = \\sqrt{n}\\frac{\\overline{X} - a}{\\widehat{\\sigma}} + \\sqrt{n}\\frac{a}{\\widehat{\\sigma}}$$\n",
    "$$T(X) - \\sqrt{n}\\frac{a}{\\widehat{\\sigma}} \\rightarrow \\mathcal{N}(0, 1)$$\n",
    "$$T(X) \\rightarrow \\mathcal{N}(\\sqrt{n}\\frac{a}{\\widehat{\\sigma}}, 1)$$\n",
    "То есть при отклонении среднего истинного распределения от $0$ рпспределение статистики $T$ \"поедет\" вправо. Иными словами, только в случае, если верна основная гипотеза распределение статистики $T$ будет стандартным нормальным распределением.\n",
    "\n",
    "Исходя из этих рассуждений, логично взять в качестве критерия такую область $S = \\left\\{X:~T(X)>C_\\alpha\\right\\}$"
   ]
  },
  {
   "cell_type": "markdown",
   "id": "60d5b5b3",
   "metadata": {},
   "source": [
    "На графике -- зелёная площадь символизирует ошибку 1 рода и численно равна вероятности её совершить, а оранжевая то же для ошибки 2 рода. Таким образом, мощность критерия -- это оставшеяся незакрашенной площадь под оранжевой кривой (1 - вероятность ошибки 2 рода)"
   ]
  },
  {
   "cell_type": "code",
   "execution_count": 57,
   "id": "4f0ebe66",
   "metadata": {},
   "outputs": [
    {
     "data": {
      "image/png": "[encoded data removed]",
      "text/plain": [
       "<Figure size 640x480 with 1 Axes>"
      ]
     },
     "metadata": {},
     "output_type": "display_data"
    }
   ],
   "source": [
    "a = 0.6\n",
    "alpha = 0.05\n",
    "\n",
    "x_axis = np.arange(-3, 5, 0.01)\n",
    "sample = sps.norm.rvs(size=100, loc=a, scale=2)\n",
    "S = (np.power(sample, 2).mean() - sample.mean() ** 2) ** 0.5\n",
    "z = sps.norm.ppf(1 - alpha)\n",
    "error1 = np.arange(z, 4, 0.01)\n",
    "error_2 = np.arange(-3, z, 0.01)\n",
    "\n",
    "plt.plot(x_axis, sps.norm.pdf(x_axis, 0, 1), label=r\"ф.р. T(X) при a = 0\")\n",
    "plt.plot(x_axis, sps.norm.pdf(x_axis, (len(sample) - 1) ** 0.5 * a / S, 1), label=r\"ф.р. T(X) при a = 0.6\")\n",
    "plt.fill_between(error1, sps.norm.pdf(error1, 0, 1), alpha=0.2, color='green')\n",
    "plt.fill_between(error_2, sps.norm.pdf(error_2, (len(sample) - 1) ** 0.5 * a / S, 1), alpha=0.2, color='orange')\n",
    "\n",
    "plt.vlines(z, -0.01, 0.01, color='red', label=r\"$C_\\alpha = z_{1 - \\alpha}$\")\n",
    "plt.vlines(0, 0, 0.4, color='orange', linestyle='dashed')\n",
    "plt.legend()\n",
    "plt.show()"
   ]
  },
  {
   "cell_type": "markdown",
   "id": "82659554",
   "metadata": {},
   "source": [
    "$C_\\alpha$ подбирается из условия на уровень значимости -- вероятность ошибки 1 рода: \n",
    "$$\\mathbb{P}(T(X) > C_\\alpha|a = 0) = \\alpha\\quad\\Rightarrow\\quad C_\\alpha = z_{1-\\alpha}$$\n",
    "Тогда критерий и вероятность ошибки первого рода переписывабтся следующим образом:\n",
    "$$S = \\left\\{X:~T(X)>z_{1-\\alpha}\\right\\},\\quad\\mathbb{P}(T(X) > z_{1-\\alpha}|a = 0) = \\alpha$$"
   ]
  },
  {
   "cell_type": "markdown",
   "id": "60d3917f",
   "metadata": {},
   "source": [
    "Однак, это всё верно только в пределе. На самом же деле дело обстоит так.\n",
    "$$T(X) = \\sqrt{n - 1}\\frac{\\overline{X}}{S} = \\frac{(\\overline{X} - 0)\\frac{\\sqrt{n}}{\\sigma}}{\\frac{S}{\\sigma}\\cdot\\frac{\\sqrt{n}}{\\sqrt{n - 1}}} = \\sqrt{n - 1}\\frac{(\\overline{X} - 0)\\frac{\\sqrt{n}}{\\sigma}}{\\sqrt{n}\\sqrt{\\frac{S^2}{\\sigma^2}}} = \\sqrt{n - 1}\\frac{(\\overline{X} - 0)\\frac{\\sqrt{n}}{\\sigma}}{\\sqrt{\\frac{(nS)^2}{\\sigma^2}}}$$\n",
    "Уф...\n",
    "Величина в числителе при $a = 0$ распределена как $\\mathcal{N}(0, 1)$:\n",
    "$$\\overline{X}\\backsim\\mathcal{N}(0, \\frac{\\sigma^2}{n})$$\n",
    "$$\\overline{X} - 0\\backsim\\mathcal{N}(0, \\frac{\\sigma^2}{n})$$\n",
    "$$\\frac{\\overline{X} - 0}{\\frac{\\sigma}{\\sqrt{n}}}\\backsim\\mathcal{N}(0, 1)$$\n",
    "В знаменателе величина распределена как $\\mathcal{\\chi}^2(n - 1)$. Таким образом мы можем заключить, что наша статичтика $T(X)$ имеер распределение Стьюдента с $n - 1$ степенью свободы. Так что, действительно в пределе оно превращается в $\\mathcal{N}(0, 1)$"
   ]
  },
  {
   "cell_type": "markdown",
   "id": "007054d0",
   "metadata": {},
   "source": [
    "Таким образом, при справедливости гипотезы наша статистика имеет распределение Стьюдента, а в другом случае -- нет. Мне лень проверять, какое, но могу предположить, что нецентрированное распределение Стьюдента. Поэтому все рассуждения сделанные выше остаются верными, за исключением предположения, что ф.р. статистики такая же как у с.н.р."
   ]
  },
  {
   "cell_type": "markdown",
   "id": "b8be7048",
   "metadata": {},
   "source": [
    "Чтобы построить теперь точный критерий, а не асимптотический следует заменить квантиль нормального распределения на квантиль распределения стьюдента:\n",
    "$$S = \\left\\{X:~T(X)>t_{1-\\alpha}\\right\\},\\quad\\mathbb{P}(T(X) > t_{1-\\alpha}|a = 0) = \\alpha$$"
   ]
  },
  {
   "cell_type": "markdown",
   "id": "8930da62",
   "metadata": {},
   "source": [
    "Построим также выражение для p-value:\n",
    "$$p_{value}(t) = \\mathbb{P}(T(X) > t|~a = 0) = 1 - \\Phi(t)$$\n",
    "Проиллюстрируем это картинкой"
   ]
  },
  {
   "cell_type": "code",
   "execution_count": 149,
   "id": "e85cbd52",
   "metadata": {},
   "outputs": [
    {
     "data": {
      "image/png": "[encoded data removed]",
      "text/plain": [
       "<Figure size 640x480 with 1 Axes>"
      ]
     },
     "metadata": {},
     "output_type": "display_data"
    }
   ],
   "source": [
    "n = 100\n",
    "a = 0.3\n",
    "sigma = 1\n",
    "alpha = 0.05\n",
    "df = n - 1\n",
    "\n",
    "sample = sps.norm.rvs(size=n, loc=a, scale=sigma)\n",
    "S = (np.power(sample, 2).mean() - sample.mean() ** 2) ** 0.5\n",
    "c = a * n ** 0.5 / sigma\n",
    "\n",
    "def T(x, nc=c, df=df):\n",
    "    return sps.nct.pdf(x, nc=nc, df=df)\n",
    "\n",
    "z = sps.nct.ppf(1 - alpha, nc=0, df=df)\n",
    "\n",
    "x_axis = np.arange(-3, 5, 0.01)\n",
    "error_1 = np.arange(z, 4, 0.01)\n",
    "error_2 = np.arange(-3, z, 0.01)\n",
    "\n",
    "plt.plot(x_axis, T(x_axis, nc=0), label=f\"ф.р. T(X) при a = 0\")\n",
    "plt.plot(x_axis, T(x_axis), label=f\"ф.р. T(X) при a = {a}\")\n",
    "\n",
    "plt.fill_between(error_1, T(error_1, nc=0, df=df), alpha=0.2, color='green')\n",
    "plt.fill_between(error_2, T(error_2, df=df), alpha=0.2, color='orange')\n",
    "\n",
    "plt.vlines(z, -0.01, 0.01, color='red', label=r\"$C_\\alpha = t_{1 - \\alpha}$\")\n",
    "plt.vlines(0, 0, 0.4, color='orange', linestyle='dashed')\n",
    "plt.legend()\n",
    "plt.show()"
   ]
  },
  {
   "cell_type": "markdown",
   "id": "71b6399e",
   "metadata": {},
   "source": [
    "Напишем свою функцию этого теста"
   ]
  },
  {
   "cell_type": "code",
   "execution_count": 150,
   "id": "42e1d5b9",
   "metadata": {},
   "outputs": [],
   "source": [
    "def my_test(\n",
    "    sample,\n",
    "    alpha=0.05,\n",
    "):\n",
    "    df = len(sample) - 1\n",
    "    n = (df) ** 0.5\n",
    "    estimation_a = sample.mean()\n",
    "    estimation_sigma = (np.power(sample, 2).mean() - sample.mean() ** 2) ** 0.5\n",
    "    z = sps.t.ppf(1 - alpha, df=df)\n",
    "\n",
    "    T = n * estimation_a / estimation_sigma\n",
    "    \n",
    "    left = round(estimation_a - z * estimation_sigma / n, 3)\n",
    "    right = np.inf\n",
    "\n",
    "    p_value = sps.t.sf(T, df=df)\n",
    "    confident_interval = (left, right)\n",
    "\n",
    "    return T, p_value, confident_interval"
   ]
  },
  {
   "cell_type": "markdown",
   "id": "58f435b9",
   "metadata": {},
   "source": [
    "Сгененрируем выборки из нормального распределения с различными параметрами и сравним в каждом случае значение статистик и p-value, выдаваемые нашей функцией и функцией из sps"
   ]
  },
  {
   "cell_type": "code",
   "execution_count": 151,
   "id": "1a0a8ac1",
   "metadata": {},
   "outputs": [
    {
     "name": "stdout",
     "output_type": "stream",
     "text": [
      "a = 0\n",
      "sigma = 1\n",
      "my\t| p-value: 0.9337273744959005 \t|\tT: -1.5166363164345968\n",
      "sps\t| p-value: 0.9337273744959005\t|\tT: -1.5166363164345966\n",
      "\n",
      "a = 0\n",
      "sigma = 5\n",
      "my\t| p-value: 0.9804606127671834 \t|\tT: -2.0911085587582376\n",
      "sps\t| p-value: 0.9804606127671835\t|\tT: -2.091108558758238\n",
      "\n",
      "a = 5\n",
      "sigma = 1\n",
      "my\t| p-value: 1.6648244048908455e-70 \t|\tT: 47.79811878260427\n",
      "sps\t| p-value: 1.664824404891082e-70\t|\tT: 47.798118782604206\n",
      "\n",
      "a = 5\n",
      "sigma = 5\n",
      "my\t| p-value: 4.451858948801921e-15 \t|\tT: 9.123923824277504\n",
      "sps\t| p-value: 4.451858948801921e-15\t|\tT: 9.123923824277506\n",
      "\n"
     ]
    }
   ],
   "source": [
    "params = [(0, 1), (0, 5), (5, 1), (5, 5)]\n",
    "for a, sigma in params:\n",
    "    sample = sps.norm.rvs(size=100, loc=a, scale=sigma)\n",
    "    my_t = my_test(sample)\n",
    "    sps_t = sps.ttest_1samp(sample, popmean=0, alternative='greater')\n",
    "    print(f'a = {a}\\nsigma = {sigma}')\n",
    "    print(f'my\\t| p-value: {my_t[1]} \\t|\\tT: {my_t[0]}')\n",
    "    print(f'sps\\t| p-value: {sps_t.pvalue}\\t|\\tT: {sps_t.statistic}')\n",
    "    print()\n"
   ]
  },
  {
   "cell_type": "markdown",
   "id": "9c304575",
   "metadata": {},
   "source": [
    "Видимо, угадали"
   ]
  },
  {
   "cell_type": "markdown",
   "id": "5b415e77",
   "metadata": {},
   "source": [
    "2. Пусть  $X = ( X_1, ... X_n)$ &mdash; выборка из неизвестного распределения $\\mathsf{P}$ с конечным вторым моментом. Постройте асимптотический критерий для проверки гипотез $\\mathsf{H}_0 \\colon \\mathsf{E} X = 0 $   vs.  $\\mathsf{H}_1 \\colon \\mathsf{E} X > 0$ уровня значимости $\\alpha$. Покажите, что при $n \\to \\infty$ этот критерий совпадает с критерием из первого пункта."
   ]
  },
  {
   "cell_type": "markdown",
   "id": "8a428c39",
   "metadata": {},
   "source": []
  }
 ],
 "metadata": {
  "kernelspec": {
   "display_name": "Python 3 (ipykernel)",
   "language": "python",
   "name": "python3"
  },
  "language_info": {
   "codemirror_mode": {
    "name": "ipython",
    "version": 3
   },
   "file_extension": ".py",
   "mimetype": "text/x-python",
   "name": "python",
   "nbconvert_exporter": "python",
   "pygments_lexer": "ipython3",
   "version": "3.10.9"
  }
 },
 "nbformat": 4,
 "nbformat_minor": 5
}
